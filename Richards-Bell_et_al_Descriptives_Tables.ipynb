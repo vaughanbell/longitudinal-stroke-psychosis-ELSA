{
 "cells": [
  {
   "cell_type": "markdown",
   "metadata": {},
   "source": [
    "# Bidirectional trajectories of stroke and psychosis: A 16-year longitudinal population study of older adults"
   ]
  },
  {
   "cell_type": "markdown",
   "metadata": {},
   "source": [
    "Load necessary packages"
   ]
  },
  {
   "cell_type": "code",
   "execution_count": 10,
   "metadata": {},
   "outputs": [],
   "source": [
    "library(dplyr)\n",
    "library(gtsummary)\n",
    "library(huxtable)"
   ]
  },
  {
   "cell_type": "markdown",
   "metadata": {},
   "source": [
    "Load pre-processed dataframe created by Stroke_Psychosis_ELSA_Pre-processing.R"
   ]
  },
  {
   "cell_type": "code",
   "execution_count": 2,
   "metadata": {},
   "outputs": [],
   "source": [
    "transformed_data_dir = \"/home/main/data/StrokePsychosisELSATransformedData/\"\n",
    "transformed_data_filename = paste(transformed_data_dir, \"waves12345.rda\", sep=\"\")\n",
    "\n",
    "load(file = transformed_data_filename)"
   ]
  },
  {
   "cell_type": "markdown",
   "metadata": {},
   "source": [
    "## Descriptives"
   ]
  },
  {
   "cell_type": "markdown",
   "metadata": {},
   "source": [
    "### Table 1. Demographics and descriptive statistics for sample"
   ]
  },
  {
   "cell_type": "code",
   "execution_count": 3,
   "metadata": {},
   "outputs": [
    {
     "data": {
      "text/html": [
       "<table>\n",
       "<caption>A huxtable: 38 × 5</caption>\n",
       "<thead>\n",
       "\t<tr><th></th><th scope=col>label</th><th scope=col>stat_1</th><th scope=col>stat_2</th><th scope=col>stat_3</th><th scope=col>stat_4</th></tr>\n",
       "\t<tr><th></th><th scope=col>&lt;chr&gt;</th><th scope=col>&lt;chr&gt;</th><th scope=col>&lt;chr&gt;</th><th scope=col>&lt;chr&gt;</th><th scope=col>&lt;chr&gt;</th></tr>\n",
       "</thead>\n",
       "<tbody>\n",
       "\t<tr><th scope=row></th><td>**Characteristic**                      </td><td>**No Stroke or Psychosis**, N = 18,208</td><td>**Psychosis only**, N = 138</td><td>**Stroke and Psychosis**, N = 24</td><td>**Stroke only**, N = 1,438</td></tr>\n",
       "\t<tr><th scope=row>1</th><td>Age at Wave 1                           </td><td>56 (48, 66)                           </td><td>53 (47, 61)                </td><td>63 (57, 77)                     </td><td>68 (59, 77)               </td></tr>\n",
       "\t<tr><th scope=row>2</th><td>Unknown                                 </td><td>2                                     </td><td>0                          </td><td>0                               </td><td>0                         </td></tr>\n",
       "\t<tr><th scope=row>3</th><td>Age categories                          </td><td>NA                                    </td><td>NA                         </td><td>NA                              </td><td>NA                        </td></tr>\n",
       "\t<tr><th scope=row>4</th><td><span style=white-space:pre-wrap>&lt;60                                     </span></td><td><span style=white-space:pre-wrap>10,994 (60%)                          </span></td><td><span style=white-space:pre-wrap>102 (74%)                  </span></td><td><span style=white-space:pre-wrap>9 (38%)                         </span></td><td><span style=white-space:pre-wrap>360 (25%)                 </span></td></tr>\n",
       "\t<tr><th scope=row>5</th><td>60-69                                   </td><td>3,841 (21%)                           </td><td>19 (14%)                   </td><td>5 (21%)                         </td><td>415 (29%)                 </td></tr>\n",
       "\t<tr><th scope=row>6</th><td>70+                                     </td><td>3,371 (19%)                           </td><td>17 (12%)                   </td><td>10 (42%)                        </td><td>663 (46%)                 </td></tr>\n",
       "\t<tr><th scope=row>7</th><td>Unknown                                 </td><td>2                                     </td><td>0                          </td><td>0                               </td><td>0                         </td></tr>\n",
       "\t<tr><th scope=row>8</th><td>Sex                                     </td><td>NA                                    </td><td>NA                         </td><td>NA                              </td><td>NA                        </td></tr>\n",
       "\t<tr><th scope=row>9</th><td>Male                                    </td><td>8,215 (45%)                           </td><td>59 (43%)                   </td><td>7 (29%)                         </td><td>730 (51%)                 </td></tr>\n",
       "\t<tr><th scope=row>10</th><td>Female                                  </td><td>9,993 (55%)                           </td><td>79 (57%)                   </td><td>17 (71%)                        </td><td>708 (49%)                 </td></tr>\n",
       "\t<tr><th scope=row>11</th><td>Ethnicity                               </td><td>NA                                    </td><td>NA                         </td><td>NA                              </td><td>NA                        </td></tr>\n",
       "\t<tr><th scope=row>12</th><td>White                                   </td><td>16,518 (91%)                          </td><td>128 (93%)                  </td><td>22 (92%)                        </td><td>1,304 (91%)               </td></tr>\n",
       "\t<tr><th scope=row>13</th><td>Non-White                               </td><td>792 (4.3%)                            </td><td>5 (3.6%)                   </td><td>0 (0%)                          </td><td>47 (3.3%)                 </td></tr>\n",
       "\t<tr><th scope=row>14</th><td>Unknown                                 </td><td>898 (4.9%)                            </td><td>5 (3.6%)                   </td><td>2 (8.3%)                        </td><td>87 (6.1%)                 </td></tr>\n",
       "\t<tr><th scope=row>15</th><td>Net financial wealth (quintile)         </td><td>NA                                    </td><td>NA                         </td><td>NA                              </td><td>NA                        </td></tr>\n",
       "\t<tr><th scope=row>16</th><td>1                                       </td><td>3,368 (23%)                           </td><td>52 (42%)                   </td><td>11 (50%)                        </td><td>326 (24%)                 </td></tr>\n",
       "\t<tr><th scope=row>17</th><td>2                                       </td><td>2,804 (19%)                           </td><td>23 (19%)                   </td><td>1 (4.5%)                        </td><td>317 (24%)                 </td></tr>\n",
       "\t<tr><th scope=row>18</th><td>3                                       </td><td>2,822 (19%)                           </td><td>20 (16%)                   </td><td>1 (4.5%)                        </td><td>270 (20%)                 </td></tr>\n",
       "\t<tr><th scope=row>19</th><td>4                                       </td><td>2,959 (20%)                           </td><td>16 (13%)                   </td><td>4 (18%)                         </td><td>216 (16%)                 </td></tr>\n",
       "\t<tr><th scope=row>20</th><td>5                                       </td><td>2,999 (20%)                           </td><td>12 (9.8%)                  </td><td>5 (23%)                         </td><td>208 (16%)                 </td></tr>\n",
       "\t<tr><th scope=row>21</th><td>Unknown                                 </td><td>3,256                                 </td><td>15                         </td><td>2                               </td><td>101                       </td></tr>\n",
       "\t<tr><th scope=row>22</th><td>Smoked cigarettes at baseline           </td><td>3,219 (18%)                           </td><td>47 (34%)                   </td><td>4 (17%)                         </td><td>273 (19%)                 </td></tr>\n",
       "\t<tr><th scope=row>23</th><td>Unknown                                 </td><td>601                                   </td><td>1                          </td><td>0                               </td><td>3                         </td></tr>\n",
       "\t<tr><th scope=row>24</th><td>Level of vigorous activity at baseline  </td><td>NA                                    </td><td>NA                         </td><td>NA                              </td><td>NA                        </td></tr>\n",
       "\t<tr><th scope=row>25</th><td>hardly ever, or never                   </td><td>10,392 (58%)                          </td><td>108 (79%)                  </td><td>17 (85%)                        </td><td>1,030 (74%)               </td></tr>\n",
       "\t<tr><th scope=row>26</th><td>more than once a week                   </td><td>4,053 (22%)                           </td><td>11 (8.0%)                  </td><td>1 (5.0%)                        </td><td>177 (13%)                 </td></tr>\n",
       "\t<tr><th scope=row>27</th><td>once a week                             </td><td>1,838 (10%)                           </td><td>9 (6.6%)                   </td><td>1 (5.0%)                        </td><td>96 (6.9%)                 </td></tr>\n",
       "\t<tr><th scope=row>28</th><td>one to three times a month              </td><td>1,736 (9.6%)                          </td><td>9 (6.6%)                   </td><td>1 (5.0%)                        </td><td>94 (6.7%)                 </td></tr>\n",
       "\t<tr><th scope=row>29</th><td>Unknown                                 </td><td>189                                   </td><td>1                          </td><td>4                               </td><td>41                        </td></tr>\n",
       "\t<tr><th scope=row>30</th><td>Level of alcohol consumption at baseline</td><td>NA                                    </td><td>NA                         </td><td>NA                              </td><td>NA                        </td></tr>\n",
       "\t<tr><th scope=row>31</th><td>1-4 times/week                          </td><td>5,769 (35%)                           </td><td>32 (26%)                   </td><td>4 (22%)                         </td><td>365 (28%)                 </td></tr>\n",
       "\t<tr><th scope=row>32</th><td>Daily/almost daily                      </td><td>4,134 (25%)                           </td><td>21 (17%)                   </td><td>5 (28%)                         </td><td>333 (25%)                 </td></tr>\n",
       "\t<tr><th scope=row>33</th><td>Monthly                                 </td><td>1,786 (11%)                           </td><td>14 (11%)                   </td><td>4 (22%)                         </td><td>146 (11%)                 </td></tr>\n",
       "\t<tr><th scope=row>34</th><td>Not at all                              </td><td>1,710 (11%)                           </td><td>26 (21%)                   </td><td>1 (5.6%)                        </td><td>218 (16%)                 </td></tr>\n",
       "\t<tr><th scope=row>35</th><td>Rarely/special occasions only           </td><td>2,873 (18%)                           </td><td>31 (25%)                   </td><td>4 (22%)                         </td><td>262 (20%)                 </td></tr>\n",
       "\t<tr><th scope=row>36</th><td>Unknown                                 </td><td>1,936                                 </td><td>14                         </td><td>6                               </td><td>114                       </td></tr>\n",
       "\t<tr><th scope=row>.1</th><td>Median (IQR); n (%)                     </td><td>Median (IQR); n (%)                   </td><td>Median (IQR); n (%)        </td><td>Median (IQR); n (%)             </td><td>Median (IQR); n (%)       </td></tr>\n",
       "</tbody>\n",
       "</table>\n"
      ],
      "text/latex": [
       "A huxtable: 38 × 5\n",
       "\\begin{tabular}{r|lllll}\n",
       "  & label & stat\\_1 & stat\\_2 & stat\\_3 & stat\\_4\\\\\n",
       "  & <chr> & <chr> & <chr> & <chr> & <chr>\\\\\n",
       "\\hline\n",
       "\t & **Characteristic**                       & **No Stroke or Psychosis**, N = 18,208 & **Psychosis only**, N = 138 & **Stroke and Psychosis**, N = 24 & **Stroke only**, N = 1,438\\\\\n",
       "\t1 & Age at Wave 1                            & 56 (48, 66)                            & 53 (47, 61)                 & 63 (57, 77)                      & 68 (59, 77)               \\\\\n",
       "\t2 & Unknown                                  & 2                                      & 0                           & 0                                & 0                         \\\\\n",
       "\t3 & Age categories                           & NA                                     & NA                          & NA                               & NA                        \\\\\n",
       "\t4 & <60                                      & 10,994 (60\\%)                           & 102 (74\\%)                   & 9 (38\\%)                          & 360 (25\\%)                 \\\\\n",
       "\t5 & 60-69                                    & 3,841 (21\\%)                            & 19 (14\\%)                    & 5 (21\\%)                          & 415 (29\\%)                 \\\\\n",
       "\t6 & 70+                                      & 3,371 (19\\%)                            & 17 (12\\%)                    & 10 (42\\%)                         & 663 (46\\%)                 \\\\\n",
       "\t7 & Unknown                                  & 2                                      & 0                           & 0                                & 0                         \\\\\n",
       "\t8 & Sex                                      & NA                                     & NA                          & NA                               & NA                        \\\\\n",
       "\t9 & Male                                     & 8,215 (45\\%)                            & 59 (43\\%)                    & 7 (29\\%)                          & 730 (51\\%)                 \\\\\n",
       "\t10 & Female                                   & 9,993 (55\\%)                            & 79 (57\\%)                    & 17 (71\\%)                         & 708 (49\\%)                 \\\\\n",
       "\t11 & Ethnicity                                & NA                                     & NA                          & NA                               & NA                        \\\\\n",
       "\t12 & White                                    & 16,518 (91\\%)                           & 128 (93\\%)                   & 22 (92\\%)                         & 1,304 (91\\%)               \\\\\n",
       "\t13 & Non-White                                & 792 (4.3\\%)                             & 5 (3.6\\%)                    & 0 (0\\%)                           & 47 (3.3\\%)                 \\\\\n",
       "\t14 & Unknown                                  & 898 (4.9\\%)                             & 5 (3.6\\%)                    & 2 (8.3\\%)                         & 87 (6.1\\%)                 \\\\\n",
       "\t15 & Net financial wealth (quintile)          & NA                                     & NA                          & NA                               & NA                        \\\\\n",
       "\t16 & 1                                        & 3,368 (23\\%)                            & 52 (42\\%)                    & 11 (50\\%)                         & 326 (24\\%)                 \\\\\n",
       "\t17 & 2                                        & 2,804 (19\\%)                            & 23 (19\\%)                    & 1 (4.5\\%)                         & 317 (24\\%)                 \\\\\n",
       "\t18 & 3                                        & 2,822 (19\\%)                            & 20 (16\\%)                    & 1 (4.5\\%)                         & 270 (20\\%)                 \\\\\n",
       "\t19 & 4                                        & 2,959 (20\\%)                            & 16 (13\\%)                    & 4 (18\\%)                          & 216 (16\\%)                 \\\\\n",
       "\t20 & 5                                        & 2,999 (20\\%)                            & 12 (9.8\\%)                   & 5 (23\\%)                          & 208 (16\\%)                 \\\\\n",
       "\t21 & Unknown                                  & 3,256                                  & 15                          & 2                                & 101                       \\\\\n",
       "\t22 & Smoked cigarettes at baseline            & 3,219 (18\\%)                            & 47 (34\\%)                    & 4 (17\\%)                          & 273 (19\\%)                 \\\\\n",
       "\t23 & Unknown                                  & 601                                    & 1                           & 0                                & 3                         \\\\\n",
       "\t24 & Level of vigorous activity at baseline   & NA                                     & NA                          & NA                               & NA                        \\\\\n",
       "\t25 & hardly ever, or never                    & 10,392 (58\\%)                           & 108 (79\\%)                   & 17 (85\\%)                         & 1,030 (74\\%)               \\\\\n",
       "\t26 & more than once a week                    & 4,053 (22\\%)                            & 11 (8.0\\%)                   & 1 (5.0\\%)                         & 177 (13\\%)                 \\\\\n",
       "\t27 & once a week                              & 1,838 (10\\%)                            & 9 (6.6\\%)                    & 1 (5.0\\%)                         & 96 (6.9\\%)                 \\\\\n",
       "\t28 & one to three times a month               & 1,736 (9.6\\%)                           & 9 (6.6\\%)                    & 1 (5.0\\%)                         & 94 (6.7\\%)                 \\\\\n",
       "\t29 & Unknown                                  & 189                                    & 1                           & 4                                & 41                        \\\\\n",
       "\t30 & Level of alcohol consumption at baseline & NA                                     & NA                          & NA                               & NA                        \\\\\n",
       "\t31 & 1-4 times/week                           & 5,769 (35\\%)                            & 32 (26\\%)                    & 4 (22\\%)                          & 365 (28\\%)                 \\\\\n",
       "\t32 & Daily/almost daily                       & 4,134 (25\\%)                            & 21 (17\\%)                    & 5 (28\\%)                          & 333 (25\\%)                 \\\\\n",
       "\t33 & Monthly                                  & 1,786 (11\\%)                            & 14 (11\\%)                    & 4 (22\\%)                          & 146 (11\\%)                 \\\\\n",
       "\t34 & Not at all                               & 1,710 (11\\%)                            & 26 (21\\%)                    & 1 (5.6\\%)                         & 218 (16\\%)                 \\\\\n",
       "\t35 & Rarely/special occasions only            & 2,873 (18\\%)                            & 31 (25\\%)                    & 4 (22\\%)                          & 262 (20\\%)                 \\\\\n",
       "\t36 & Unknown                                  & 1,936                                  & 14                          & 6                                & 114                       \\\\\n",
       "\t.1 & Median (IQR); n (\\%)                      & Median (IQR); n (\\%)                    & Median (IQR); n (\\%)         & Median (IQR); n (\\%)              & Median (IQR); n (\\%)       \\\\\n",
       "\\end{tabular}\n"
      ],
      "text/markdown": [
       "\n",
       "A huxtable: 38 × 5\n",
       "\n",
       "| <!--/--> | label &lt;chr&gt; | stat_1 &lt;chr&gt; | stat_2 &lt;chr&gt; | stat_3 &lt;chr&gt; | stat_4 &lt;chr&gt; |\n",
       "|---|---|---|---|---|---|\n",
       "| <!----> | **Characteristic**                       | **No Stroke or Psychosis**, N = 18,208 | **Psychosis only**, N = 138 | **Stroke and Psychosis**, N = 24 | **Stroke only**, N = 1,438 |\n",
       "| 1 | Age at Wave 1                            | 56 (48, 66)                            | 53 (47, 61)                 | 63 (57, 77)                      | 68 (59, 77)                |\n",
       "| 2 | Unknown                                  | 2                                      | 0                           | 0                                | 0                          |\n",
       "| 3 | Age categories                           | NA                                     | NA                          | NA                               | NA                         |\n",
       "| 4 | &lt;60                                      | 10,994 (60%)                           | 102 (74%)                   | 9 (38%)                          | 360 (25%)                  |\n",
       "| 5 | 60-69                                    | 3,841 (21%)                            | 19 (14%)                    | 5 (21%)                          | 415 (29%)                  |\n",
       "| 6 | 70+                                      | 3,371 (19%)                            | 17 (12%)                    | 10 (42%)                         | 663 (46%)                  |\n",
       "| 7 | Unknown                                  | 2                                      | 0                           | 0                                | 0                          |\n",
       "| 8 | Sex                                      | NA                                     | NA                          | NA                               | NA                         |\n",
       "| 9 | Male                                     | 8,215 (45%)                            | 59 (43%)                    | 7 (29%)                          | 730 (51%)                  |\n",
       "| 10 | Female                                   | 9,993 (55%)                            | 79 (57%)                    | 17 (71%)                         | 708 (49%)                  |\n",
       "| 11 | Ethnicity                                | NA                                     | NA                          | NA                               | NA                         |\n",
       "| 12 | White                                    | 16,518 (91%)                           | 128 (93%)                   | 22 (92%)                         | 1,304 (91%)                |\n",
       "| 13 | Non-White                                | 792 (4.3%)                             | 5 (3.6%)                    | 0 (0%)                           | 47 (3.3%)                  |\n",
       "| 14 | Unknown                                  | 898 (4.9%)                             | 5 (3.6%)                    | 2 (8.3%)                         | 87 (6.1%)                  |\n",
       "| 15 | Net financial wealth (quintile)          | NA                                     | NA                          | NA                               | NA                         |\n",
       "| 16 | 1                                        | 3,368 (23%)                            | 52 (42%)                    | 11 (50%)                         | 326 (24%)                  |\n",
       "| 17 | 2                                        | 2,804 (19%)                            | 23 (19%)                    | 1 (4.5%)                         | 317 (24%)                  |\n",
       "| 18 | 3                                        | 2,822 (19%)                            | 20 (16%)                    | 1 (4.5%)                         | 270 (20%)                  |\n",
       "| 19 | 4                                        | 2,959 (20%)                            | 16 (13%)                    | 4 (18%)                          | 216 (16%)                  |\n",
       "| 20 | 5                                        | 2,999 (20%)                            | 12 (9.8%)                   | 5 (23%)                          | 208 (16%)                  |\n",
       "| 21 | Unknown                                  | 3,256                                  | 15                          | 2                                | 101                        |\n",
       "| 22 | Smoked cigarettes at baseline            | 3,219 (18%)                            | 47 (34%)                    | 4 (17%)                          | 273 (19%)                  |\n",
       "| 23 | Unknown                                  | 601                                    | 1                           | 0                                | 3                          |\n",
       "| 24 | Level of vigorous activity at baseline   | NA                                     | NA                          | NA                               | NA                         |\n",
       "| 25 | hardly ever, or never                    | 10,392 (58%)                           | 108 (79%)                   | 17 (85%)                         | 1,030 (74%)                |\n",
       "| 26 | more than once a week                    | 4,053 (22%)                            | 11 (8.0%)                   | 1 (5.0%)                         | 177 (13%)                  |\n",
       "| 27 | once a week                              | 1,838 (10%)                            | 9 (6.6%)                    | 1 (5.0%)                         | 96 (6.9%)                  |\n",
       "| 28 | one to three times a month               | 1,736 (9.6%)                           | 9 (6.6%)                    | 1 (5.0%)                         | 94 (6.7%)                  |\n",
       "| 29 | Unknown                                  | 189                                    | 1                           | 4                                | 41                         |\n",
       "| 30 | Level of alcohol consumption at baseline | NA                                     | NA                          | NA                               | NA                         |\n",
       "| 31 | 1-4 times/week                           | 5,769 (35%)                            | 32 (26%)                    | 4 (22%)                          | 365 (28%)                  |\n",
       "| 32 | Daily/almost daily                       | 4,134 (25%)                            | 21 (17%)                    | 5 (28%)                          | 333 (25%)                  |\n",
       "| 33 | Monthly                                  | 1,786 (11%)                            | 14 (11%)                    | 4 (22%)                          | 146 (11%)                  |\n",
       "| 34 | Not at all                               | 1,710 (11%)                            | 26 (21%)                    | 1 (5.6%)                         | 218 (16%)                  |\n",
       "| 35 | Rarely/special occasions only            | 2,873 (18%)                            | 31 (25%)                    | 4 (22%)                          | 262 (20%)                  |\n",
       "| 36 | Unknown                                  | 1,936                                  | 14                          | 6                                | 114                        |\n",
       "| .1 | Median (IQR); n (%)                      | Median (IQR); n (%)                    | Median (IQR); n (%)         | Median (IQR); n (%)              | Median (IQR); n (%)        |\n",
       "\n"
      ],
      "text/plain": [
       "   label                                   \n",
       "   **Characteristic**                      \n",
       "1  Age at Wave 1                           \n",
       "2  Unknown                                 \n",
       "3  Age categories                          \n",
       "4  <60                                     \n",
       "5  60-69                                   \n",
       "6  70+                                     \n",
       "7  Unknown                                 \n",
       "8  Sex                                     \n",
       "9  Male                                    \n",
       "10 Female                                  \n",
       "11 Ethnicity                               \n",
       "12 White                                   \n",
       "13 Non-White                               \n",
       "14 Unknown                                 \n",
       "15 Net financial wealth (quintile)         \n",
       "16 1                                       \n",
       "17 2                                       \n",
       "18 3                                       \n",
       "19 4                                       \n",
       "20 5                                       \n",
       "21 Unknown                                 \n",
       "22 Smoked cigarettes at baseline           \n",
       "23 Unknown                                 \n",
       "24 Level of vigorous activity at baseline  \n",
       "25 hardly ever, or never                   \n",
       "26 more than once a week                   \n",
       "27 once a week                             \n",
       "28 one to three times a month              \n",
       "29 Unknown                                 \n",
       "30 Level of alcohol consumption at baseline\n",
       "31 1-4 times/week                          \n",
       "32 Daily/almost daily                      \n",
       "33 Monthly                                 \n",
       "34 Not at all                              \n",
       "35 Rarely/special occasions only           \n",
       "36 Unknown                                 \n",
       ".1 Median (IQR); n (%)                     \n",
       "   stat_1                                 stat_2                     \n",
       "   **No Stroke or Psychosis**, N = 18,208 **Psychosis only**, N = 138\n",
       "1  56 (48, 66)                            53 (47, 61)                \n",
       "2  2                                      0                          \n",
       "3  NA                                     NA                         \n",
       "4  10,994 (60%)                           102 (74%)                  \n",
       "5  3,841 (21%)                            19 (14%)                   \n",
       "6  3,371 (19%)                            17 (12%)                   \n",
       "7  2                                      0                          \n",
       "8  NA                                     NA                         \n",
       "9  8,215 (45%)                            59 (43%)                   \n",
       "10 9,993 (55%)                            79 (57%)                   \n",
       "11 NA                                     NA                         \n",
       "12 16,518 (91%)                           128 (93%)                  \n",
       "13 792 (4.3%)                             5 (3.6%)                   \n",
       "14 898 (4.9%)                             5 (3.6%)                   \n",
       "15 NA                                     NA                         \n",
       "16 3,368 (23%)                            52 (42%)                   \n",
       "17 2,804 (19%)                            23 (19%)                   \n",
       "18 2,822 (19%)                            20 (16%)                   \n",
       "19 2,959 (20%)                            16 (13%)                   \n",
       "20 2,999 (20%)                            12 (9.8%)                  \n",
       "21 3,256                                  15                         \n",
       "22 3,219 (18%)                            47 (34%)                   \n",
       "23 601                                    1                          \n",
       "24 NA                                     NA                         \n",
       "25 10,392 (58%)                           108 (79%)                  \n",
       "26 4,053 (22%)                            11 (8.0%)                  \n",
       "27 1,838 (10%)                            9 (6.6%)                   \n",
       "28 1,736 (9.6%)                           9 (6.6%)                   \n",
       "29 189                                    1                          \n",
       "30 NA                                     NA                         \n",
       "31 5,769 (35%)                            32 (26%)                   \n",
       "32 4,134 (25%)                            21 (17%)                   \n",
       "33 1,786 (11%)                            14 (11%)                   \n",
       "34 1,710 (11%)                            26 (21%)                   \n",
       "35 2,873 (18%)                            31 (25%)                   \n",
       "36 1,936                                  14                         \n",
       ".1 Median (IQR); n (%)                    Median (IQR); n (%)        \n",
       "   stat_3                           stat_4                    \n",
       "   **Stroke and Psychosis**, N = 24 **Stroke only**, N = 1,438\n",
       "1  63 (57, 77)                      68 (59, 77)               \n",
       "2  0                                0                         \n",
       "3  NA                               NA                        \n",
       "4  9 (38%)                          360 (25%)                 \n",
       "5  5 (21%)                          415 (29%)                 \n",
       "6  10 (42%)                         663 (46%)                 \n",
       "7  0                                0                         \n",
       "8  NA                               NA                        \n",
       "9  7 (29%)                          730 (51%)                 \n",
       "10 17 (71%)                         708 (49%)                 \n",
       "11 NA                               NA                        \n",
       "12 22 (92%)                         1,304 (91%)               \n",
       "13 0 (0%)                           47 (3.3%)                 \n",
       "14 2 (8.3%)                         87 (6.1%)                 \n",
       "15 NA                               NA                        \n",
       "16 11 (50%)                         326 (24%)                 \n",
       "17 1 (4.5%)                         317 (24%)                 \n",
       "18 1 (4.5%)                         270 (20%)                 \n",
       "19 4 (18%)                          216 (16%)                 \n",
       "20 5 (23%)                          208 (16%)                 \n",
       "21 2                                101                       \n",
       "22 4 (17%)                          273 (19%)                 \n",
       "23 0                                3                         \n",
       "24 NA                               NA                        \n",
       "25 17 (85%)                         1,030 (74%)               \n",
       "26 1 (5.0%)                         177 (13%)                 \n",
       "27 1 (5.0%)                         96 (6.9%)                 \n",
       "28 1 (5.0%)                         94 (6.7%)                 \n",
       "29 4                                41                        \n",
       "30 NA                               NA                        \n",
       "31 4 (22%)                          365 (28%)                 \n",
       "32 5 (28%)                          333 (25%)                 \n",
       "33 4 (22%)                          146 (11%)                 \n",
       "34 1 (5.6%)                         218 (16%)                 \n",
       "35 4 (22%)                          262 (20%)                 \n",
       "36 6                                114                       \n",
       ".1 Median (IQR); n (%)              Median (IQR); n (%)       "
      ]
     },
     "metadata": {},
     "output_type": "display_data"
    }
   ],
   "source": [
    "waves12345 %>%\n",
    "  select(Categories = strokepsychosiscat, w1age, age_cat, Sex = sex, Ethnicity = ethnicgroup,\n",
    "         netwealth_q5, smokingbaseline, vigorousactbaseline, alcoholbaseline) %>%\n",
    "  tbl_summary(\n",
    "    by = Categories,\n",
    "    sort = everything() ~ \"alphanumeric\",\n",
    "    label = list(w1age = \"Age at Wave 1\",\n",
    "                 age_cat = \"Age categories\",\n",
    "                 region = \"Geographical region\",\n",
    "                 netwealth_q5 = \"Net financial wealth (quintile)\",\n",
    "                 smokingbaseline = \"Smoked cigarettes at baseline\",\n",
    "                 vigorousactbaseline = \"Level of vigorous activity at baseline\",\n",
    "                 alcoholbaseline = \"Level of alcohol consumption at baseline\"),\n",
    "  ) %>%\n",
    "  bold_labels() %>%\n",
    "  italicize_levels() %>%\n",
    "  modify_caption(\"**Table 1. Demographics and descriptive statistics for sample**\") %>%\n",
    "  as_hux_table()\n"
   ]
  },
  {
   "cell_type": "markdown",
   "metadata": {},
   "source": [
    "### Table 2. Stroke status and every-reported psychiatric diagnoses for sample"
   ]
  },
  {
   "cell_type": "code",
   "execution_count": 4,
   "metadata": {},
   "outputs": [
    {
     "data": {
      "text/html": [
       "<table>\n",
       "<caption>A huxtable: 9 × 5</caption>\n",
       "<thead>\n",
       "\t<tr><th></th><th scope=col>label</th><th scope=col>stat_1</th><th scope=col>stat_2</th><th scope=col>stat_3</th><th scope=col>stat_4</th></tr>\n",
       "\t<tr><th></th><th scope=col>&lt;chr&gt;</th><th scope=col>&lt;chr&gt;</th><th scope=col>&lt;chr&gt;</th><th scope=col>&lt;chr&gt;</th><th scope=col>&lt;chr&gt;</th></tr>\n",
       "</thead>\n",
       "<tbody>\n",
       "\t<tr><th scope=row></th><td>**Characteristic**                  </td><td>**No Stroke or Psychosis**, N = 18,208</td><td>**Psychosis only**, N = 138   </td><td>**Stroke and Psychosis**, N = 24</td><td>**Stroke only**, N = 1,438    </td></tr>\n",
       "\t<tr><th scope=row>1</th><td>Age at first stroke                 </td><td>NA (NA, NA)                           </td><td>NA (NA, NA)                   </td><td>66 (58, 79)                     </td><td>69 (60, 78)                   </td></tr>\n",
       "\t<tr><th scope=row>2</th><td>Unknown                             </td><td>18,208                                </td><td>138                           </td><td>2                               </td><td>233                           </td></tr>\n",
       "\t<tr><th scope=row>3</th><td>Number of stroke recurrences        </td><td>0.0 (0.0)                             </td><td>0.0 (0.0)                     </td><td>2.2 (3.0)                       </td><td>1.1 (1.4)                     </td></tr>\n",
       "\t<tr><th scope=row>4</th><td>Number of stroke recurrences (if &gt;0)</td><td><span style=white-space:pre-wrap>NA (NA)                               </span></td><td><span style=white-space:pre-wrap>NA (NA)                       </span></td><td><span style=white-space:pre-wrap>3.1 (3.2)                       </span></td><td><span style=white-space:pre-wrap>1.9 (1.4)                     </span></td></tr>\n",
       "\t<tr><th scope=row>5</th><td>Unknown                             </td><td>18,208                                </td><td>138                           </td><td>7                               </td><td>561                           </td></tr>\n",
       "\t<tr><th scope=row>6</th><td>Ever-reported Depression            </td><td>1,708 (9.4%)                          </td><td>117 (85%)                     </td><td>20 (83%)                        </td><td>164 (11%)                     </td></tr>\n",
       "\t<tr><th scope=row>7</th><td>Ever-reported Anxiety               </td><td>1,471 (8.1%)                          </td><td>113 (82%)                     </td><td>18 (75%)                        </td><td>145 (10%)                     </td></tr>\n",
       "\t<tr><th scope=row>.1</th><td>Median (IQR); Mean (SD); n (%)      </td><td>Median (IQR); Mean (SD); n (%)        </td><td>Median (IQR); Mean (SD); n (%)</td><td>Median (IQR); Mean (SD); n (%)  </td><td>Median (IQR); Mean (SD); n (%)</td></tr>\n",
       "</tbody>\n",
       "</table>\n"
      ],
      "text/latex": [
       "A huxtable: 9 × 5\n",
       "\\begin{tabular}{r|lllll}\n",
       "  & label & stat\\_1 & stat\\_2 & stat\\_3 & stat\\_4\\\\\n",
       "  & <chr> & <chr> & <chr> & <chr> & <chr>\\\\\n",
       "\\hline\n",
       "\t & **Characteristic**                   & **No Stroke or Psychosis**, N = 18,208 & **Psychosis only**, N = 138    & **Stroke and Psychosis**, N = 24 & **Stroke only**, N = 1,438    \\\\\n",
       "\t1 & Age at first stroke                  & NA (NA, NA)                            & NA (NA, NA)                    & 66 (58, 79)                      & 69 (60, 78)                   \\\\\n",
       "\t2 & Unknown                              & 18,208                                 & 138                            & 2                                & 233                           \\\\\n",
       "\t3 & Number of stroke recurrences         & 0.0 (0.0)                              & 0.0 (0.0)                      & 2.2 (3.0)                        & 1.1 (1.4)                     \\\\\n",
       "\t4 & Number of stroke recurrences (if >0) & NA (NA)                                & NA (NA)                        & 3.1 (3.2)                        & 1.9 (1.4)                     \\\\\n",
       "\t5 & Unknown                              & 18,208                                 & 138                            & 7                                & 561                           \\\\\n",
       "\t6 & Ever-reported Depression             & 1,708 (9.4\\%)                           & 117 (85\\%)                      & 20 (83\\%)                         & 164 (11\\%)                     \\\\\n",
       "\t7 & Ever-reported Anxiety                & 1,471 (8.1\\%)                           & 113 (82\\%)                      & 18 (75\\%)                         & 145 (10\\%)                     \\\\\n",
       "\t.1 & Median (IQR); Mean (SD); n (\\%)       & Median (IQR); Mean (SD); n (\\%)         & Median (IQR); Mean (SD); n (\\%) & Median (IQR); Mean (SD); n (\\%)   & Median (IQR); Mean (SD); n (\\%)\\\\\n",
       "\\end{tabular}\n"
      ],
      "text/markdown": [
       "\n",
       "A huxtable: 9 × 5\n",
       "\n",
       "| <!--/--> | label &lt;chr&gt; | stat_1 &lt;chr&gt; | stat_2 &lt;chr&gt; | stat_3 &lt;chr&gt; | stat_4 &lt;chr&gt; |\n",
       "|---|---|---|---|---|---|\n",
       "| <!----> | **Characteristic**                   | **No Stroke or Psychosis**, N = 18,208 | **Psychosis only**, N = 138    | **Stroke and Psychosis**, N = 24 | **Stroke only**, N = 1,438     |\n",
       "| 1 | Age at first stroke                  | NA (NA, NA)                            | NA (NA, NA)                    | 66 (58, 79)                      | 69 (60, 78)                    |\n",
       "| 2 | Unknown                              | 18,208                                 | 138                            | 2                                | 233                            |\n",
       "| 3 | Number of stroke recurrences         | 0.0 (0.0)                              | 0.0 (0.0)                      | 2.2 (3.0)                        | 1.1 (1.4)                      |\n",
       "| 4 | Number of stroke recurrences (if &gt;0) | NA (NA)                                | NA (NA)                        | 3.1 (3.2)                        | 1.9 (1.4)                      |\n",
       "| 5 | Unknown                              | 18,208                                 | 138                            | 7                                | 561                            |\n",
       "| 6 | Ever-reported Depression             | 1,708 (9.4%)                           | 117 (85%)                      | 20 (83%)                         | 164 (11%)                      |\n",
       "| 7 | Ever-reported Anxiety                | 1,471 (8.1%)                           | 113 (82%)                      | 18 (75%)                         | 145 (10%)                      |\n",
       "| .1 | Median (IQR); Mean (SD); n (%)       | Median (IQR); Mean (SD); n (%)         | Median (IQR); Mean (SD); n (%) | Median (IQR); Mean (SD); n (%)   | Median (IQR); Mean (SD); n (%) |\n",
       "\n"
      ],
      "text/plain": [
       "   label                                stat_1                                \n",
       "   **Characteristic**                   **No Stroke or Psychosis**, N = 18,208\n",
       "1  Age at first stroke                  NA (NA, NA)                           \n",
       "2  Unknown                              18,208                                \n",
       "3  Number of stroke recurrences         0.0 (0.0)                             \n",
       "4  Number of stroke recurrences (if >0) NA (NA)                               \n",
       "5  Unknown                              18,208                                \n",
       "6  Ever-reported Depression             1,708 (9.4%)                          \n",
       "7  Ever-reported Anxiety                1,471 (8.1%)                          \n",
       ".1 Median (IQR); Mean (SD); n (%)       Median (IQR); Mean (SD); n (%)        \n",
       "   stat_2                         stat_3                          \n",
       "   **Psychosis only**, N = 138    **Stroke and Psychosis**, N = 24\n",
       "1  NA (NA, NA)                    66 (58, 79)                     \n",
       "2  138                            2                               \n",
       "3  0.0 (0.0)                      2.2 (3.0)                       \n",
       "4  NA (NA)                        3.1 (3.2)                       \n",
       "5  138                            7                               \n",
       "6  117 (85%)                      20 (83%)                        \n",
       "7  113 (82%)                      18 (75%)                        \n",
       ".1 Median (IQR); Mean (SD); n (%) Median (IQR); Mean (SD); n (%)  \n",
       "   stat_4                        \n",
       "   **Stroke only**, N = 1,438    \n",
       "1  69 (60, 78)                   \n",
       "2  233                           \n",
       "3  1.1 (1.4)                     \n",
       "4  1.9 (1.4)                     \n",
       "5  561                           \n",
       "6  164 (11%)                     \n",
       "7  145 (10%)                     \n",
       ".1 Median (IQR); Mean (SD); n (%)"
      ]
     },
     "metadata": {},
     "output_type": "display_data"
    }
   ],
   "source": [
    "waves12345 %>%\n",
    "  select(Categories = strokepsychosiscat, minstrokeage, ntotalstrokes, ntotalstrokesnozero, depressionever, anxietyever) %>%\n",
    "  tbl_summary(\n",
    "    by = Categories,\n",
    "    type = list(depressionever ~ \"dichotomous\",\n",
    "                anxietyever ~ \"dichotomous\",\n",
    "                ntotalstrokesnozero ~ \"continuous\"),\n",
    "    statistic = list(ntotalstrokes ~ \"{mean} ({sd})\",\n",
    "                     ntotalstrokesnozero ~ \"{mean} ({sd})\"),\n",
    "    digits = list(ntotalstrokes ~ 1,\n",
    "                  ntotalstrokesnozero ~ 1),\n",
    "    sort = everything() ~ \"alphanumeric\",\n",
    "    label = list(\n",
    "                 minstrokeage = \"Age at first stroke\",\n",
    "                 ntotalstrokes = \"Number of stroke recurrences\",\n",
    "                 ntotalstrokesnozero = \"Number of stroke recurrences (if >0)\",\n",
    "                 depressionever = \"Ever-reported Depression\",\n",
    "                 anxietyever = \"Ever-reported Anxiety\"),\n",
    "  ) %>%\n",
    "  bold_labels() %>%\n",
    "  italicize_levels() %>%\n",
    "  modify_caption(\"**Table 1. Participant characteristics across Stroke and Psychosis groups**\") %>%\n",
    "  as_hux_table()"
   ]
  },
  {
   "cell_type": "markdown",
   "metadata": {},
   "source": [
    "### Supplementary Table 2. Study participation across stroke and psychosis groups."
   ]
  },
  {
   "cell_type": "code",
   "execution_count": 5,
   "metadata": {},
   "outputs": [
    {
     "data": {
      "text/html": [
       "<table>\n",
       "<caption>A huxtable: 5 × 5</caption>\n",
       "<thead>\n",
       "\t<tr><th></th><th scope=col>label</th><th scope=col>stat_1</th><th scope=col>stat_2</th><th scope=col>stat_3</th><th scope=col>stat_4</th></tr>\n",
       "\t<tr><th></th><th scope=col>&lt;chr&gt;</th><th scope=col>&lt;chr&gt;</th><th scope=col>&lt;chr&gt;</th><th scope=col>&lt;chr&gt;</th><th scope=col>&lt;chr&gt;</th></tr>\n",
       "</thead>\n",
       "<tbody>\n",
       "\t<tr><th scope=row></th><td>**Characteristic**          </td><td>**No Stroke or Psychosis**, N = 18,208</td><td>**Psychosis only**, N = 138</td><td>**Stroke and Psychosis**, N = 24</td><td>**Stroke only**, N = 1,438</td></tr>\n",
       "\t<tr><th scope=row>1</th><td>Number of waves participated</td><td>4.0 (2.0, 7.0)                        </td><td>6.0 (3.0, 7.0)             </td><td>6.0 (3.0, 8.0)                  </td><td>5.0 (3.0, 7.0)            </td></tr>\n",
       "\t<tr><th scope=row>2</th><td>Participated in all waves   </td><td>2,954 (16%)                           </td><td>25 (18%)                   </td><td>2 (8.3%)                        </td><td>244 (17%)                 </td></tr>\n",
       "\t<tr><th scope=row>3</th><td>Died before Wave 6          </td><td>2,293 (13%)                           </td><td>12 (8.7%)                  </td><td>5 (21%)                         </td><td>409 (28%)                 </td></tr>\n",
       "\t<tr><th scope=row>.1</th><td>Median (IQR); n (%)         </td><td>Median (IQR); n (%)                   </td><td>Median (IQR); n (%)        </td><td>Median (IQR); n (%)             </td><td>Median (IQR); n (%)       </td></tr>\n",
       "</tbody>\n",
       "</table>\n"
      ],
      "text/latex": [
       "A huxtable: 5 × 5\n",
       "\\begin{tabular}{r|lllll}\n",
       "  & label & stat\\_1 & stat\\_2 & stat\\_3 & stat\\_4\\\\\n",
       "  & <chr> & <chr> & <chr> & <chr> & <chr>\\\\\n",
       "\\hline\n",
       "\t & **Characteristic**           & **No Stroke or Psychosis**, N = 18,208 & **Psychosis only**, N = 138 & **Stroke and Psychosis**, N = 24 & **Stroke only**, N = 1,438\\\\\n",
       "\t1 & Number of waves participated & 4.0 (2.0, 7.0)                         & 6.0 (3.0, 7.0)              & 6.0 (3.0, 8.0)                   & 5.0 (3.0, 7.0)            \\\\\n",
       "\t2 & Participated in all waves    & 2,954 (16\\%)                            & 25 (18\\%)                    & 2 (8.3\\%)                         & 244 (17\\%)                 \\\\\n",
       "\t3 & Died before Wave 6           & 2,293 (13\\%)                            & 12 (8.7\\%)                   & 5 (21\\%)                          & 409 (28\\%)                 \\\\\n",
       "\t.1 & Median (IQR); n (\\%)          & Median (IQR); n (\\%)                    & Median (IQR); n (\\%)         & Median (IQR); n (\\%)              & Median (IQR); n (\\%)       \\\\\n",
       "\\end{tabular}\n"
      ],
      "text/markdown": [
       "\n",
       "A huxtable: 5 × 5\n",
       "\n",
       "| <!--/--> | label &lt;chr&gt; | stat_1 &lt;chr&gt; | stat_2 &lt;chr&gt; | stat_3 &lt;chr&gt; | stat_4 &lt;chr&gt; |\n",
       "|---|---|---|---|---|---|\n",
       "| <!----> | **Characteristic**           | **No Stroke or Psychosis**, N = 18,208 | **Psychosis only**, N = 138 | **Stroke and Psychosis**, N = 24 | **Stroke only**, N = 1,438 |\n",
       "| 1 | Number of waves participated | 4.0 (2.0, 7.0)                         | 6.0 (3.0, 7.0)              | 6.0 (3.0, 8.0)                   | 5.0 (3.0, 7.0)             |\n",
       "| 2 | Participated in all waves    | 2,954 (16%)                            | 25 (18%)                    | 2 (8.3%)                         | 244 (17%)                  |\n",
       "| 3 | Died before Wave 6           | 2,293 (13%)                            | 12 (8.7%)                   | 5 (21%)                          | 409 (28%)                  |\n",
       "| .1 | Median (IQR); n (%)          | Median (IQR); n (%)                    | Median (IQR); n (%)         | Median (IQR); n (%)              | Median (IQR); n (%)        |\n",
       "\n"
      ],
      "text/plain": [
       "   label                        stat_1                                \n",
       "   **Characteristic**           **No Stroke or Psychosis**, N = 18,208\n",
       "1  Number of waves participated 4.0 (2.0, 7.0)                        \n",
       "2  Participated in all waves    2,954 (16%)                           \n",
       "3  Died before Wave 6           2,293 (13%)                           \n",
       ".1 Median (IQR); n (%)          Median (IQR); n (%)                   \n",
       "   stat_2                      stat_3                          \n",
       "   **Psychosis only**, N = 138 **Stroke and Psychosis**, N = 24\n",
       "1  6.0 (3.0, 7.0)              6.0 (3.0, 8.0)                  \n",
       "2  25 (18%)                    2 (8.3%)                        \n",
       "3  12 (8.7%)                   5 (21%)                         \n",
       ".1 Median (IQR); n (%)         Median (IQR); n (%)             \n",
       "   stat_4                    \n",
       "   **Stroke only**, N = 1,438\n",
       "1  5.0 (3.0, 7.0)            \n",
       "2  244 (17%)                 \n",
       "3  409 (28%)                 \n",
       ".1 Median (IQR); n (%)       "
      ]
     },
     "metadata": {},
     "output_type": "display_data"
    }
   ],
   "source": [
    "waves12345 %>%\n",
    "  select(Categories = strokepsychosiscat, totalwaves, allwavesparticipated, diedbeforeendfup) %>%\n",
    "  tbl_summary(\n",
    "    by = Categories,\n",
    "    type = totalwaves ~ \"continuous\",\n",
    "    digits = totalwaves ~ 1,\n",
    "    sort = everything() ~ \"alphanumeric\",\n",
    "    label = list(\n",
    "                 totalwaves = \"Number of waves participated\",\n",
    "                 allwavesparticipated = \"Participated in all waves\",\n",
    "                 diedbeforeendfup = \"Died before Wave 6\")\n",
    "  ) %>%\n",
    "  bold_labels() %>%\n",
    "  italicize_levels() %>%\n",
    "  modify_caption(\"**Table 2. Study participation across Stroke and Psychosis groups**\") %>%\n",
    "  as_hux_table()"
   ]
  },
  {
   "cell_type": "markdown",
   "metadata": {},
   "source": [
    "## Analysis platform details and software versions"
   ]
  },
  {
   "cell_type": "code",
   "execution_count": 6,
   "metadata": {},
   "outputs": [
    {
     "data": {
      "text/plain": [
       "               _                           \n",
       "platform       x86_64-pc-linux-gnu         \n",
       "arch           x86_64                      \n",
       "os             linux-gnu                   \n",
       "system         x86_64, linux-gnu           \n",
       "status                                     \n",
       "major          4                           \n",
       "minor          0.3                         \n",
       "year           2020                        \n",
       "month          10                          \n",
       "day            10                          \n",
       "svn rev        79318                       \n",
       "language       R                           \n",
       "version.string R version 4.0.3 (2020-10-10)\n",
       "nickname       Bunny-Wunnies Freak Out     "
      ]
     },
     "metadata": {},
     "output_type": "display_data"
    }
   ],
   "source": [
    "version"
   ]
  },
  {
   "cell_type": "code",
   "execution_count": 7,
   "metadata": {},
   "outputs": [
    {
     "data": {
      "text/plain": [
       "[1] ‘1.0.9’"
      ]
     },
     "metadata": {},
     "output_type": "display_data"
    }
   ],
   "source": [
    "packageVersion(\"dplyr\")"
   ]
  },
  {
   "cell_type": "code",
   "execution_count": 8,
   "metadata": {},
   "outputs": [
    {
     "data": {
      "text/plain": [
       "[1] ‘1.6.0’"
      ]
     },
     "metadata": {},
     "output_type": "display_data"
    }
   ],
   "source": [
    "packageVersion(\"gtsummary\")"
   ]
  },
  {
   "cell_type": "code",
   "execution_count": 9,
   "metadata": {},
   "outputs": [
    {
     "data": {
      "text/plain": [
       "[1] ‘5.4.0’"
      ]
     },
     "metadata": {},
     "output_type": "display_data"
    }
   ],
   "source": [
    "packageVersion(\"huxtable\")"
   ]
  },
  {
   "cell_type": "code",
   "execution_count": null,
   "metadata": {},
   "outputs": [],
   "source": []
  }
 ],
 "metadata": {
  "kernelspec": {
   "display_name": "R",
   "language": "R",
   "name": "ir"
  },
  "language_info": {
   "codemirror_mode": "r",
   "file_extension": ".r",
   "mimetype": "text/x-r-source",
   "name": "R",
   "pygments_lexer": "r",
   "version": "4.0.3"
  }
 },
 "nbformat": 4,
 "nbformat_minor": 4
}
