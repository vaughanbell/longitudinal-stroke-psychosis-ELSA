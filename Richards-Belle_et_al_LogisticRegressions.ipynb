{
 "cells": [
  {
   "cell_type": "markdown",
   "metadata": {},
   "source": [
    "# Longitudinal associations between stroke and psychosis: a population-based study of older adults"
   ]
  },
  {
   "cell_type": "markdown",
   "metadata": {},
   "source": [
    "## Calculate logistic regression tables"
   ]
  },
  {
   "cell_type": "markdown",
   "metadata": {},
   "source": [
    "Load necessary packages"
   ]
  },
  {
   "cell_type": "code",
   "execution_count": 35,
   "metadata": {
    "vscode": {
     "languageId": "r"
    }
   },
   "outputs": [],
   "source": [
    "library(dplyr)\n",
    "library(survival)\n",
    "library(gtsummary)\n",
    "library(gt)\n",
    "library(IRdisplay)\n",
    "library(webshot2)"
   ]
  },
  {
   "cell_type": "markdown",
   "metadata": {},
   "source": [
    "Load pre-processed dataframes created by Stroke_Psychosis_ELSA_Pre-processing.R"
   ]
  },
  {
   "cell_type": "code",
   "execution_count": 2,
   "metadata": {
    "vscode": {
     "languageId": "r"
    }
   },
   "outputs": [],
   "source": [
    "# Location of pre-processed dataframe files\n",
    "transformed_data_dir = \"/home/main/data/StrokePsychosisELSATransformedData/\"\n",
    "\n",
    "# Directory to store the generated tables as html files. Must be writeable.\n",
    "output_dir <- \"/tmp/\"\n",
    "\n",
    "psychosisinstroke_surv_filename = paste(transformed_data_dir, \"psychosisinstroke_surv.rda\", sep=\"\")\n",
    "strokeinpsychosis_surv_filename = paste(transformed_data_dir, \"strokeinpsychosis_surv.rda\", sep=\"\")\n",
    "psychosisinstroke_imp_filename = paste(transformed_data_dir, \"psychosisinstroke_imp.rda\", sep=\"\")\n",
    "strokeinpsychosis_imp_filename = paste(transformed_data_dir, \"strokeinpsychosis_imp.rda\", sep=\"\")\n",
    "\n",
    "load(psychosisinstroke_surv_filename) # cc dataset\n",
    "load(strokeinpsychosis_surv_filename) # cc dataset\n",
    "load(psychosisinstroke_imp_filename) # MI dataset\n",
    "load(strokeinpsychosis_imp_filename) # MI dataset"
   ]
  },
  {
   "cell_type": "markdown",
   "metadata": {},
   "source": [
    "#### Psychosis Predicting Stroke (censored at 10 years)\n",
    "\n",
    "Using imputed datasets"
   ]
  },
  {
   "cell_type": "code",
   "execution_count": 3,
   "metadata": {
    "vscode": {
     "languageId": "r"
    }
   },
   "outputs": [],
   "source": [
    "# Unadjusted logistic regression\n",
    "psychosispredictstroke_m1 <- glm(strokeever_10 ~ psychosisever_10,\n",
    "                                 data = strokeinpsychosis_imp,\n",
    "                                 family = binomial(link = \"logit\"))\n",
    "\n",
    "psychosispredictstroke_m1_gt <- tbl_regression(psychosispredictstroke_m1, \n",
    "                                               exponentiate = TRUE, \n",
    "                                               pvalue_fun = function(x) style_pvalue(x, digits = 2),\n",
    "                                               include = psychosisever_10,\n",
    "                                               label = psychosisever_10 ~ \"Odds of stroke in psychosis\") %>%\n",
    "  modify_column_merge(pattern = \"{estimate} ({ci}) [{p.value}]\")"
   ]
  },
  {
   "cell_type": "code",
   "execution_count": 4,
   "metadata": {
    "vscode": {
     "languageId": "r"
    }
   },
   "outputs": [],
   "source": [
    "# Adjusted logistic regression (demographic covariates)       \n",
    "psychosispredictstroke_m2 <- glm(strokeever_10 ~ psychosisever_10 +\n",
    "                                   w1age + sex + ethnicgroup + netwealth_q5 + frailty(idauniq),\n",
    "                                 data = strokeinpsychosis_imp,\n",
    "                                 family = binomial(link = \"logit\"))\n",
    "\n",
    "psychosispredictstroke_m2_gt <- tbl_regression(psychosispredictstroke_m2, \n",
    "                                               exponentiate = TRUE, \n",
    "                                               pvalue_fun = function(x) style_pvalue(x, digits = 2),\n",
    "                                               include = psychosisever_10,\n",
    "                                               label = psychosisever_10 ~ \"Odds of stroke in psychosis\") %>%\n",
    "  modify_column_merge(pattern = \"{estimate} ({ci}) [{p.value}]\")"
   ]
  },
  {
   "cell_type": "code",
   "execution_count": 5,
   "metadata": {
    "vscode": {
     "languageId": "r"
    }
   },
   "outputs": [],
   "source": [
    "# Adjusted logistic regression (demographic and health behaviour covariates)\n",
    "psychosispredictstroke_m3 <- glm(strokeever_10 ~ psychosisever_10 + \n",
    "                                   w1age + sex + ethnicgroup + netwealth_q5 + smokingbaseline + \n",
    "                                   alcoholbaseline + vigorousactbaseline + frailty(idauniq),\n",
    "                                 data = strokeinpsychosis_imp,\n",
    "                                 family = binomial(link = \"logit\"))\n",
    "\n",
    "psychosispredictstroke_m3_gt <- tbl_regression(psychosispredictstroke_m3, \n",
    "                                               exponentiate = TRUE, \n",
    "                                               pvalue_fun = function(x) style_pvalue(x, digits = 2),\n",
    "                                               include = psychosisever_10,\n",
    "                                               label = psychosisever_10 ~ \"Odds of stroke in psychosis\") %>%\n",
    "  modify_column_merge(pattern = \"{estimate} ({ci}) [{p.value}]\")"
   ]
  },
  {
   "cell_type": "markdown",
   "metadata": {},
   "source": [
    "Using complete cases"
   ]
  },
  {
   "cell_type": "code",
   "execution_count": 6,
   "metadata": {
    "vscode": {
     "languageId": "r"
    }
   },
   "outputs": [],
   "source": [
    "# Adjusted logistic regression (demographic covariates)       \n",
    "psychosispredictstroke_cc_m2 <- glm(strokeever_10 ~ psychosisever_10 + \n",
    "                                      w1age + sex + ethnicgroup + netwealth_q5 + frailty(idauniq),\n",
    "                                    data = strokeinpsychosis_surv,\n",
    "                                    family = binomial(link = \"logit\"))\n",
    "\n",
    "psychosispredictstroke_m2_cc_gt <- tbl_regression(psychosispredictstroke_cc_m2, \n",
    "                                               exponentiate = TRUE, \n",
    "                                               pvalue_fun = function(x) style_pvalue(x, digits = 2),\n",
    "                                               include = psychosisever_10,\n",
    "                                               label = psychosisever_10 ~ \"Odds of stroke in psychosis\") %>%\n",
    "  modify_column_merge(pattern = \"{estimate} ({ci}) [{p.value}]\")"
   ]
  },
  {
   "cell_type": "code",
   "execution_count": 7,
   "metadata": {
    "vscode": {
     "languageId": "r"
    }
   },
   "outputs": [],
   "source": [
    "# Adjusted logistic regression (demographic and health behaviour covariates)\n",
    "psychosispredictstroke_cc_m3 <- glm(strokeever_10 ~ psychosisever_10 + \n",
    "                                      w1age + sex + ethnicgroup + netwealth_q5 + smokingbaseline + \n",
    "                                      alcoholbaseline + vigorousactbaseline + frailty(idauniq),\n",
    "                                    data = strokeinpsychosis_surv,\n",
    "                                    family = binomial(link = \"logit\"))\n",
    "\n",
    "psychosispredictstroke_m3_cc_gt <- tbl_regression(psychosispredictstroke_cc_m3, \n",
    "                                               exponentiate = TRUE, \n",
    "                                               pvalue_fun = function(x) style_pvalue(x, digits = 2),\n",
    "                                               include = psychosisever_10,\n",
    "                                               label = psychosisever_10 ~ \"Odds of stroke in psychosis\") %>%\n",
    "  modify_column_merge(pattern = \"{estimate} ({ci}) [{p.value}]\")"
   ]
  },
  {
   "cell_type": "markdown",
   "metadata": {},
   "source": [
    "#### Stroke Predicting Psychosis (censored at 10 years)\n",
    "\n",
    "Using imputed datasets"
   ]
  },
  {
   "cell_type": "code",
   "execution_count": 8,
   "metadata": {
    "vscode": {
     "languageId": "r"
    }
   },
   "outputs": [],
   "source": [
    "# Unadjusted logistic regression\n",
    "strokepredictpsychosis_m1 <- glm(psychosisever_10 ~ strokeever_10,\n",
    "                                 data = psychosisinstroke_imp,\n",
    "                                 family = binomial(link = \"logit\"))\n",
    "\n",
    "strokepredictpsychosis_m1_gt <- tbl_regression(strokepredictpsychosis_m1, \n",
    "                                               exponentiate = TRUE, \n",
    "                                               pvalue_fun = function(x) style_pvalue(x, digits = 2),\n",
    "                                               include = strokeever_10,\n",
    "                                               label = strokeever_10 ~ \"Odds of psychosis in stroke\") %>%\n",
    "  modify_column_merge(pattern = \"{estimate} ({ci}) [{p.value}]\")"
   ]
  },
  {
   "cell_type": "code",
   "execution_count": 9,
   "metadata": {
    "vscode": {
     "languageId": "r"
    }
   },
   "outputs": [],
   "source": [
    "# Adjusted logistic regression (demographic covariates)       \n",
    "strokepredictpsychosis_m2 <- glm(psychosisever_10 ~ strokeever_10 + \n",
    "                                   w1age + sex + ethnicgroup + netwealth_q5 + frailty(idauniq),\n",
    "                                 data = psychosisinstroke_imp,\n",
    "                                 family = binomial(link = \"logit\"))\n",
    "\n",
    "strokepredictpsychosis_m2_gt <- tbl_regression(strokepredictpsychosis_m2, \n",
    "                                               exponentiate = TRUE, \n",
    "                                               pvalue_fun = function(x) style_pvalue(x, digits = 2),\n",
    "                                               include = strokeever_10,\n",
    "                                               label = strokeever_10 ~ \"Odds of psychosis in stroke\") %>%\n",
    "  modify_column_merge(pattern = \"{estimate} ({ci}) [{p.value}]\")"
   ]
  },
  {
   "cell_type": "code",
   "execution_count": 10,
   "metadata": {
    "vscode": {
     "languageId": "r"
    }
   },
   "outputs": [],
   "source": [
    "# Adjusted logistic regression (demographic and health behaviour covariates)\n",
    "strokepredictpsychosis_m3 <- glm(psychosisever_10 ~ strokeever_10 + \n",
    "                                   w1age + sex + ethnicgroup + netwealth_q5 + smokingbaseline + \n",
    "                                   alcoholbaseline + vigorousactbaseline + frailty(idauniq),\n",
    "                                 data = psychosisinstroke_imp,\n",
    "                                 family = binomial(link = \"logit\"))\n",
    "\n",
    "strokepredictpsychosis_m3_gt <- tbl_regression(strokepredictpsychosis_m3, \n",
    "                                               exponentiate = TRUE, \n",
    "                                               pvalue_fun = function(x) style_pvalue(x, digits = 2),\n",
    "                                               include = strokeever_10,\n",
    "                                               label = strokeever_10 ~ \"Odds of psychosis in stroke\") %>%\n",
    "  modify_column_merge(pattern = \"{estimate} ({ci}) [{p.value}]\")"
   ]
  },
  {
   "cell_type": "markdown",
   "metadata": {},
   "source": [
    "Using complete cases"
   ]
  },
  {
   "cell_type": "code",
   "execution_count": 11,
   "metadata": {
    "vscode": {
     "languageId": "r"
    }
   },
   "outputs": [],
   "source": [
    "# Adjusted logistic regression (demographic covariates)       \n",
    "strokepredictpsychosis_cc_m2 <- glm(psychosisever_10 ~ strokeever_10 + \n",
    "                                      w1age + sex + ethnicgroup + netwealth_q5 + frailty(idauniq),\n",
    "                                    data = psychosisinstroke_surv,\n",
    "                                    family = binomial(link = \"logit\"))\n",
    "\n",
    "strokepredictpsychosis_m2_cc_gt <- tbl_regression(strokepredictpsychosis_cc_m2, \n",
    "                                               exponentiate = TRUE, \n",
    "                                               pvalue_fun = function(x) style_pvalue(x, digits = 2),\n",
    "                                               include = strokeever_10,\n",
    "                                               label = strokeever_10 ~ \"Odds of psychosis in stroke\") %>%\n",
    "  modify_column_merge(pattern = \"{estimate} ({ci}) [{p.value}]\")"
   ]
  },
  {
   "cell_type": "code",
   "execution_count": 12,
   "metadata": {
    "vscode": {
     "languageId": "r"
    }
   },
   "outputs": [],
   "source": [
    "# Adjusted logistic regression (demographic and health behaviour covariates)\n",
    "strokepredictpsychosis_cc_m3 <- glm(psychosisever_10 ~ strokeever_10 + \n",
    "                                      w1age + sex + ethnicgroup + netwealth_q5 + smokingbaseline + \n",
    "                                      alcoholbaseline + vigorousactbaseline + frailty(idauniq),\n",
    "                                    data = psychosisinstroke_surv,\n",
    "                                    family = binomial(link = \"logit\"))\n",
    "\n",
    "strokepredictpsychosis_m3_cc_gt <- tbl_regression(strokepredictpsychosis_cc_m3, \n",
    "                                                  exponentiate = TRUE, \n",
    "                                                  pvalue_fun = function(x) style_pvalue(x, digits = 2),\n",
    "                                                  include = strokeever_10,\n",
    "                                                  label = strokeever_10 ~ \"Odds of psychosis in stroke\") %>%\n",
    "  modify_column_merge(pattern = \"{estimate} ({ci}) [{p.value}]\")"
   ]
  },
  {
   "cell_type": "markdown",
   "metadata": {},
   "source": [
    "#### Merge tables"
   ]
  },
  {
   "cell_type": "code",
   "execution_count": 13,
   "metadata": {
    "vscode": {
     "languageId": "r"
    }
   },
   "outputs": [],
   "source": [
    "# Imputed\n",
    "psychosisxstrokeodds_tab1 <- tbl_merge(tbls = list(psychosispredictstroke_m1_gt, psychosispredictstroke_m2_gt, psychosispredictstroke_m3_gt),\n",
    "                  tab_spanner = c( \"**Unadjusted**\", \"**Adjusted, model 1**\", \"**Adjusted, model 2**\"))\n",
    "\n",
    "strokexpsychosisodds_tab2 <- tbl_merge(tbls = list(strokepredictpsychosis_m1_gt, strokepredictpsychosis_m2_gt, strokepredictpsychosis_m3_gt),\n",
    "                  tab_spanner = c( \"**Unadjusted**\", \"**Adjusted, model 1**\", \"**Adjusted, model 2**\"))\n",
    "\n",
    "# Complete case\n",
    "psychosisxstrokeodds_cc_tab1 <- tbl_merge(tbls = list(psychosispredictstroke_m1_gt, psychosispredictstroke_m2_cc_gt, psychosispredictstroke_m3_cc_gt),\n",
    "                                       tab_spanner = c( \"**Unadjusted**\", \"**Adjusted, model 1**\", \"**Adjusted, model 2**\"))\n",
    "\n",
    "strokexpsychosisodds_cc_tab2 <- tbl_merge(tbls = list(strokepredictpsychosis_m1_gt, strokepredictpsychosis_m2_cc_gt, strokepredictpsychosis_m3_cc_gt),\n",
    "                                       tab_spanner = c( \"**Unadjusted**\", \"**Adjusted, model 1**\", \"**Adjusted, model 2**\"))\n",
    "\n",
    "# Stack merged tables together\n",
    "\n",
    "# Imputed\n",
    "strokepsychosisodds_tab <- tbl_stack(tbls = list(psychosisxstrokeodds_tab1, strokexpsychosisodds_tab2))\n",
    "\n",
    "# Complete case\n",
    "strokepsychosisodds_cc_tab <- tbl_stack(tbls = list(psychosisxstrokeodds_cc_tab1, strokexpsychosisodds_cc_tab2))"
   ]
  },
  {
   "cell_type": "markdown",
   "metadata": {},
   "source": [
    "#### Psychosis Predicting Stroke (censored at 4 years)\n",
    "\n",
    "Using imputed datasets"
   ]
  },
  {
   "cell_type": "code",
   "execution_count": 14,
   "metadata": {
    "vscode": {
     "languageId": "r"
    }
   },
   "outputs": [],
   "source": [
    "# Unadjusted logistic regression\n",
    "psychosispredictstroke_m1_4y <- glm(strokeever_4 ~ psychosisever_4,\n",
    "                                    data = strokeinpsychosis_imp,\n",
    "                                    family = binomial(link = \"logit\"))\n",
    "\n",
    "psychosispredictstroke_m1_gt_4y <- tbl_regression(psychosispredictstroke_m1_4y, \n",
    "                                                  exponentiate = TRUE, \n",
    "                                                  pvalue_fun = function(x) style_pvalue(x, digits = 2),\n",
    "                                                  include = psychosisever_4,\n",
    "                                                  label = psychosisever_4 ~ \"Odds of stroke in psychosis\") %>%\n",
    "  modify_column_merge(pattern = \"{estimate} ({ci}) [{p.value}]\")"
   ]
  },
  {
   "cell_type": "code",
   "execution_count": 15,
   "metadata": {
    "vscode": {
     "languageId": "r"
    }
   },
   "outputs": [],
   "source": [
    "# Adjusted logistic regression (demographic covariates)       \n",
    "psychosispredictstroke_m2_4y <- glm(strokeever_4 ~ psychosisever_4 + \n",
    "                                      w1age + sex + ethnicgroup + netwealth_q5 + frailty(idauniq),\n",
    "                                    data = strokeinpsychosis_imp,\n",
    "                                    family = binomial(link = \"logit\"))\n",
    "\n",
    "psychosispredictstroke_m2_gt_4y <- tbl_regression(psychosispredictstroke_m2_4y, \n",
    "                                                  exponentiate = TRUE, \n",
    "                                                  pvalue_fun = function(x) style_pvalue(x, digits = 2),\n",
    "                                                  include = psychosisever_4,\n",
    "                                                  label = psychosisever_4 ~ \"Odds of stroke in psychosis\") %>%\n",
    "  modify_column_merge(pattern = \"{estimate} ({ci}) [{p.value}]\")"
   ]
  },
  {
   "cell_type": "code",
   "execution_count": 16,
   "metadata": {
    "vscode": {
     "languageId": "r"
    }
   },
   "outputs": [],
   "source": [
    "# Adjusted logistic regression (demographic and health behaviour covariates)\n",
    "psychosispredictstroke_m3_4y <- glm(strokeever_4 ~ psychosisever_4 + \n",
    "                                      w1age + sex + ethnicgroup + netwealth_q5 + smokingbaseline + \n",
    "                                      alcoholbaseline + vigorousactbaseline + frailty(idauniq),\n",
    "                                    data = strokeinpsychosis_imp,\n",
    "                                    family = binomial(link = \"logit\"))\n",
    "\n",
    "psychosispredictstroke_m3_gt_4y <- tbl_regression(psychosispredictstroke_m3_4y, \n",
    "                                                  exponentiate = TRUE, \n",
    "                                                  pvalue_fun = function(x) style_pvalue(x, digits = 2),\n",
    "                                                  include = psychosisever_4,\n",
    "                                                  label = psychosisever_4 ~ \"Odds of stroke in psychosis\") %>%\n",
    "  modify_column_merge(pattern = \"{estimate} ({ci}) [{p.value}]\")"
   ]
  },
  {
   "cell_type": "markdown",
   "metadata": {},
   "source": [
    "Using complete cases"
   ]
  },
  {
   "cell_type": "code",
   "execution_count": 17,
   "metadata": {
    "vscode": {
     "languageId": "r"
    }
   },
   "outputs": [],
   "source": [
    "# Adjusted logistic regression (demographic covariates)       \n",
    "psychosispredictstroke_cc_m2_4y <- glm(strokeever_4 ~ psychosisever_4 + \n",
    "                                         w1age + sex + ethnicgroup + netwealth_q5 + frailty(idauniq),\n",
    "                                       data = strokeinpsychosis_surv,\n",
    "                                       family = binomial(link = \"logit\"))\n",
    "\n",
    "psychosispredictstroke_m2_cc_gt_4y <- tbl_regression(psychosispredictstroke_cc_m2_4y, \n",
    "                                                     exponentiate = TRUE, \n",
    "                                                     pvalue_fun = function(x) style_pvalue(x, digits = 2),\n",
    "                                                     include = psychosisever_4,\n",
    "                                                     label = psychosisever_4 ~ \"Odds of stroke in psychosis\") %>%\n",
    "  modify_column_merge(pattern = \"{estimate} ({ci}) [{p.value}]\")"
   ]
  },
  {
   "cell_type": "code",
   "execution_count": 18,
   "metadata": {
    "vscode": {
     "languageId": "r"
    }
   },
   "outputs": [],
   "source": [
    "# Adjusted logistic regression (demographic and health behaviour covariates)\n",
    "psychosispredictstroke_cc_m3_4y <- glm(strokeever_4 ~ psychosisever_4 + \n",
    "                                         w1age + sex + ethnicgroup + netwealth_q5 + smokingbaseline + \n",
    "                                         alcoholbaseline + vigorousactbaseline + frailty(idauniq),\n",
    "                                       data = strokeinpsychosis_surv,\n",
    "                                       family = binomial(link = \"logit\"))\n",
    "\n",
    "psychosispredictstroke_m3_cc_gt_4y <- tbl_regression(psychosispredictstroke_cc_m3_4y, \n",
    "                                                     exponentiate = TRUE, \n",
    "                                                     pvalue_fun = function(x) style_pvalue(x, digits = 2),\n",
    "                                                     include = psychosisever_4,\n",
    "                                                     label = psychosisever_4 ~ \"Odds of stroke in psychosis\") %>%\n",
    "  modify_column_merge(pattern = \"{estimate} ({ci}) [{p.value}]\")"
   ]
  },
  {
   "cell_type": "markdown",
   "metadata": {},
   "source": [
    "#### Stroke Predicting Psychosis (censored at 4 years)\n",
    "\n",
    "Using imputed datasets"
   ]
  },
  {
   "cell_type": "code",
   "execution_count": 19,
   "metadata": {
    "vscode": {
     "languageId": "r"
    }
   },
   "outputs": [],
   "source": [
    "# Unadjusted logistic regression\n",
    "strokepredictpsychosis_m1_4y <- glm(psychosisever_4 ~ strokeever_4,\n",
    "                                    data=psychosisinstroke_imp,\n",
    "                                    family = binomial(link = \"logit\"))\n",
    "\n",
    "strokepredictpsychosis_m1_gt_4y <- tbl_regression(strokepredictpsychosis_m1_4y, \n",
    "                                                  exponentiate = TRUE, \n",
    "                                                  pvalue_fun = function(x) style_pvalue(x, digits = 2),\n",
    "                                                  include = strokeever_4,\n",
    "                                                  label = strokeever_4 ~ \"Odds of psychosis in stroke\") %>%\n",
    "  modify_column_merge(pattern = \"{estimate} ({ci}) [{p.value}]\")"
   ]
  },
  {
   "cell_type": "code",
   "execution_count": 20,
   "metadata": {
    "vscode": {
     "languageId": "r"
    }
   },
   "outputs": [],
   "source": [
    "# Adjusted logistic regression (demographic covariates)       \n",
    "strokepredictpsychosis_m2_4y <- glm(psychosisever_4 ~ strokeever_4 + \n",
    "                                      w1age + sex + ethnicgroup + netwealth_q5 + frailty(idauniq),\n",
    "                                    data = psychosisinstroke_imp,\n",
    "                                    family = binomial(link = \"logit\"))\n",
    "\n",
    "strokepredictpsychosis_m2_gt_4y <- tbl_regression(strokepredictpsychosis_m2_4y, \n",
    "                                                  exponentiate = TRUE, \n",
    "                                                  pvalue_fun = function(x) style_pvalue(x, digits = 2),\n",
    "                                                  include = strokeever_4,\n",
    "                                                  label = strokeever_4 ~ \"Odds of psychosis in stroke\") %>%\n",
    "  modify_column_merge(pattern = \"{estimate} ({ci}) [{p.value}]\")"
   ]
  },
  {
   "cell_type": "code",
   "execution_count": 21,
   "metadata": {
    "vscode": {
     "languageId": "r"
    }
   },
   "outputs": [],
   "source": [
    "# Adjusted logistic regression (demographic and health behaviour covariates)\n",
    "strokepredictpsychosis_m3_4y <- glm(psychosisever_4 ~ strokeever_4 + \n",
    "                                      w1age + sex + ethnicgroup + netwealth_q5 + smokingbaseline + \n",
    "                                      alcoholbaseline + vigorousactbaseline + frailty(idauniq),\n",
    "                                    data = psychosisinstroke_imp,\n",
    "                                    family = binomial(link = \"logit\"))\n",
    "\n",
    "strokepredictpsychosis_m3_gt_4y <- tbl_regression(strokepredictpsychosis_m3_4y, \n",
    "                                                  exponentiate = TRUE, \n",
    "                                                  pvalue_fun = function(x) style_pvalue(x, digits = 2),\n",
    "                                                  include = strokeever_4,\n",
    "                                                  label = strokeever_4 ~ \"Odds of psychosis in stroke\") %>%\n",
    "  modify_column_merge(pattern = \"{estimate} ({ci}) [{p.value}]\")"
   ]
  },
  {
   "cell_type": "markdown",
   "metadata": {},
   "source": [
    "Using complete cases"
   ]
  },
  {
   "cell_type": "code",
   "execution_count": 22,
   "metadata": {
    "vscode": {
     "languageId": "r"
    }
   },
   "outputs": [],
   "source": [
    "# Adjusted logistic regression (demographic covariates)       \n",
    "strokepredictpsychosis_cc_m2_4y <- glm(psychosisever_4 ~ strokeever_4 + \n",
    "                                         w1age + sex + ethnicgroup + netwealth_q5 + frailty(idauniq),\n",
    "                                       data = psychosisinstroke_surv,\n",
    "                                       family = binomial(link = \"logit\"))\n",
    "\n",
    "strokepredictpsychosis_m2_cc_gt_4y <- tbl_regression(strokepredictpsychosis_cc_m2_4y, \n",
    "                                                     exponentiate = TRUE, \n",
    "                                                     pvalue_fun = function(x) style_pvalue(x, digits = 2),\n",
    "                                                     include = strokeever_4,\n",
    "                                                     label = strokeever_4 ~ \"Odds of psychosis in stroke\") %>%\n",
    "  modify_column_merge(pattern = \"{estimate} ({ci}) [{p.value}]\")"
   ]
  },
  {
   "cell_type": "code",
   "execution_count": 23,
   "metadata": {
    "vscode": {
     "languageId": "r"
    }
   },
   "outputs": [],
   "source": [
    "# Adjusted logistic regression (demographic and health behaviour covariates)\n",
    "strokepredictpsychosis_cc_m3_4y <- glm(psychosisever_4 ~ strokeever_4 + \n",
    "                                         w1age + sex + ethnicgroup + netwealth_q5 + smokingbaseline + \n",
    "                                         alcoholbaseline + vigorousactbaseline + frailty(idauniq),\n",
    "                                       data = psychosisinstroke_surv,\n",
    "                                       family = binomial(link = \"logit\"))\n",
    "\n",
    "strokepredictpsychosis_m3_cc_gt_4y <- tbl_regression(strokepredictpsychosis_cc_m3_4y, \n",
    "                                                     exponentiate = TRUE, \n",
    "                                                     pvalue_fun = function(x) style_pvalue(x, digits = 2),\n",
    "                                                     include = strokeever_4,\n",
    "                                                     label = strokeever_4 ~ \"Odds of psychosis in stroke\") %>%\n",
    "  modify_column_merge(pattern = \"{estimate} ({ci}) [{p.value}]\")"
   ]
  },
  {
   "cell_type": "markdown",
   "metadata": {},
   "source": [
    "#### Merge tables"
   ]
  },
  {
   "cell_type": "code",
   "execution_count": 24,
   "metadata": {
    "vscode": {
     "languageId": "r"
    }
   },
   "outputs": [],
   "source": [
    "# Imputed\n",
    "psychosisxstrokeodds_tab1_4y <- tbl_merge(tbls = list(psychosispredictstroke_m1_gt_4y, psychosispredictstroke_m2_gt_4y, psychosispredictstroke_m3_gt_4y),\n",
    "                                          tab_spanner = c( \"**Unadjusted**\", \"**Adjusted, model 1**\", \"**Adjusted, model 2**\"))\n",
    "\n",
    "strokexpsychosisodds_tab2_4y <- tbl_merge(tbls = list(strokepredictpsychosis_m1_gt_4y, strokepredictpsychosis_m2_gt_4y, strokepredictpsychosis_m3_gt_4y),\n",
    "                                          tab_spanner = c( \"**Unadjusted**\", \"**Adjusted, model 1**\", \"**Adjusted, model 2**\"))\n",
    "\n",
    "# Commplete case\n",
    "psychosisxstrokeodds_cc_tab1_4y <- tbl_merge(tbls = list(psychosispredictstroke_m1_gt_4y, psychosispredictstroke_m2_cc_gt_4y, psychosispredictstroke_m3_cc_gt_4y),\n",
    "                                             tab_spanner = c( \"**Unadjusted**\", \"**Adjusted, model 1**\", \"**Adjusted, model 2**\"))\n",
    "\n",
    "strokexpsychosisodds_cc_tab2_4y <- tbl_merge(tbls = list(strokepredictpsychosis_m1_gt_4y, strokepredictpsychosis_m2_cc_gt_4y, strokepredictpsychosis_m3_cc_gt_4y),\n",
    "                                             tab_spanner = c( \"**Unadjusted**\", \"**Adjusted, model 1**\", \"**Adjusted, model 2**\"))\n",
    "\n",
    "# Stack merged tables together\n",
    "\n",
    "# Imputed\n",
    "strokepsychosisodds_tab_4y <- tbl_stack(tbls = list(psychosisxstrokeodds_tab1_4y, strokexpsychosisodds_tab2_4y))\n",
    "\n",
    "# Complete case\n",
    "strokepsychosisodds_cc_tab_4y <- tbl_stack(tbls = list(psychosisxstrokeodds_cc_tab1_4y, strokexpsychosisodds_cc_tab2_4y))"
   ]
  },
  {
   "cell_type": "markdown",
   "metadata": {},
   "source": [
    "#### Final merge of tables and display"
   ]
  },
  {
   "cell_type": "code",
   "execution_count": 25,
   "metadata": {
    "vscode": {
     "languageId": "r"
    }
   },
   "outputs": [],
   "source": [
    "# Stack 4 and 10 year tables together\n",
    "\n",
    "# Imputed\n",
    "strokepsychosisodds_tab_4and10y <- tbl_stack(tbls = list(strokepsychosisodds_tab_4y, strokepsychosisodds_tab), group_header = c(\"At 4 years\", \"At 10 years\"))\n",
    "\n",
    "# Complete case\n",
    "strokepsychosisodds_cc_tab_4and10y <- tbl_stack(tbls = list(strokepsychosisodds_cc_tab_4y, strokepsychosisodds_cc_tab), group_header = c(\"At 4 years\", \"At 10 years\"))"
   ]
  },
  {
   "cell_type": "markdown",
   "metadata": {},
   "source": [
    "#### Table 2. Odds ratios estimates for stroke risk after psychosis and psychosis risk after stroke."
   ]
  },
  {
   "cell_type": "code",
   "execution_count": 26,
   "metadata": {
    "vscode": {
     "languageId": "r"
    }
   },
   "outputs": [
    {
     "data": {
      "text/html": [
       "<!DOCTYPE html>\n",
       "<html lang=\"en\">\n",
       "<head>\n",
       "<meta charset=\"utf-8\"/>\n",
       "<style>body{background-color:white;}</style>\n",
       "\n",
       "\n",
       "</head>\n",
       "<body>\n",
       "<div id=\"bvkcomnwie\" style=\"padding-left:0px;padding-right:0px;padding-top:10px;padding-bottom:10px;overflow-x:auto;overflow-y:auto;width:auto;height:auto;\">\n",
       "  <style>html {\n",
       "  font-family: -apple-system, BlinkMacSystemFont, 'Segoe UI', Roboto, Oxygen, Ubuntu, Cantarell, 'Helvetica Neue', 'Fira Sans', 'Droid Sans', Arial, sans-serif;\n",
       "}\n",
       "\n",
       "#bvkcomnwie .gt_table {\n",
       "  display: table;\n",
       "  border-collapse: collapse;\n",
       "  margin-left: auto;\n",
       "  margin-right: auto;\n",
       "  color: #333333;\n",
       "  font-size: 16px;\n",
       "  font-weight: normal;\n",
       "  font-style: normal;\n",
       "  background-color: #FFFFFF;\n",
       "  width: auto;\n",
       "  border-top-style: solid;\n",
       "  border-top-width: 2px;\n",
       "  border-top-color: #A8A8A8;\n",
       "  border-right-style: none;\n",
       "  border-right-width: 2px;\n",
       "  border-right-color: #D3D3D3;\n",
       "  border-bottom-style: solid;\n",
       "  border-bottom-width: 2px;\n",
       "  border-bottom-color: #A8A8A8;\n",
       "  border-left-style: none;\n",
       "  border-left-width: 2px;\n",
       "  border-left-color: #D3D3D3;\n",
       "}\n",
       "\n",
       "#bvkcomnwie .gt_heading {\n",
       "  background-color: #FFFFFF;\n",
       "  text-align: center;\n",
       "  border-bottom-color: #FFFFFF;\n",
       "  border-left-style: none;\n",
       "  border-left-width: 1px;\n",
       "  border-left-color: #D3D3D3;\n",
       "  border-right-style: none;\n",
       "  border-right-width: 1px;\n",
       "  border-right-color: #D3D3D3;\n",
       "}\n",
       "\n",
       "#bvkcomnwie .gt_caption {\n",
       "  padding-top: 4px;\n",
       "  padding-bottom: 4px;\n",
       "}\n",
       "\n",
       "#bvkcomnwie .gt_title {\n",
       "  color: #333333;\n",
       "  font-size: 125%;\n",
       "  font-weight: initial;\n",
       "  padding-top: 4px;\n",
       "  padding-bottom: 4px;\n",
       "  padding-left: 5px;\n",
       "  padding-right: 5px;\n",
       "  border-bottom-color: #FFFFFF;\n",
       "  border-bottom-width: 0;\n",
       "}\n",
       "\n",
       "#bvkcomnwie .gt_subtitle {\n",
       "  color: #333333;\n",
       "  font-size: 85%;\n",
       "  font-weight: initial;\n",
       "  padding-top: 0;\n",
       "  padding-bottom: 6px;\n",
       "  padding-left: 5px;\n",
       "  padding-right: 5px;\n",
       "  border-top-color: #FFFFFF;\n",
       "  border-top-width: 0;\n",
       "}\n",
       "\n",
       "#bvkcomnwie .gt_bottom_border {\n",
       "  border-bottom-style: solid;\n",
       "  border-bottom-width: 2px;\n",
       "  border-bottom-color: #D3D3D3;\n",
       "}\n",
       "\n",
       "#bvkcomnwie .gt_col_headings {\n",
       "  border-top-style: solid;\n",
       "  border-top-width: 2px;\n",
       "  border-top-color: #D3D3D3;\n",
       "  border-bottom-style: solid;\n",
       "  border-bottom-width: 2px;\n",
       "  border-bottom-color: #D3D3D3;\n",
       "  border-left-style: none;\n",
       "  border-left-width: 1px;\n",
       "  border-left-color: #D3D3D3;\n",
       "  border-right-style: none;\n",
       "  border-right-width: 1px;\n",
       "  border-right-color: #D3D3D3;\n",
       "}\n",
       "\n",
       "#bvkcomnwie .gt_col_heading {\n",
       "  color: #333333;\n",
       "  background-color: #FFFFFF;\n",
       "  font-size: 100%;\n",
       "  font-weight: normal;\n",
       "  text-transform: inherit;\n",
       "  border-left-style: none;\n",
       "  border-left-width: 1px;\n",
       "  border-left-color: #D3D3D3;\n",
       "  border-right-style: none;\n",
       "  border-right-width: 1px;\n",
       "  border-right-color: #D3D3D3;\n",
       "  vertical-align: bottom;\n",
       "  padding-top: 5px;\n",
       "  padding-bottom: 6px;\n",
       "  padding-left: 5px;\n",
       "  padding-right: 5px;\n",
       "  overflow-x: hidden;\n",
       "}\n",
       "\n",
       "#bvkcomnwie .gt_column_spanner_outer {\n",
       "  color: #333333;\n",
       "  background-color: #FFFFFF;\n",
       "  font-size: 100%;\n",
       "  font-weight: normal;\n",
       "  text-transform: inherit;\n",
       "  padding-top: 0;\n",
       "  padding-bottom: 0;\n",
       "  padding-left: 4px;\n",
       "  padding-right: 4px;\n",
       "}\n",
       "\n",
       "#bvkcomnwie .gt_column_spanner_outer:first-child {\n",
       "  padding-left: 0;\n",
       "}\n",
       "\n",
       "#bvkcomnwie .gt_column_spanner_outer:last-child {\n",
       "  padding-right: 0;\n",
       "}\n",
       "\n",
       "#bvkcomnwie .gt_column_spanner {\n",
       "  border-bottom-style: solid;\n",
       "  border-bottom-width: 2px;\n",
       "  border-bottom-color: #D3D3D3;\n",
       "  vertical-align: bottom;\n",
       "  padding-top: 5px;\n",
       "  padding-bottom: 5px;\n",
       "  overflow-x: hidden;\n",
       "  display: inline-block;\n",
       "  width: 100%;\n",
       "}\n",
       "\n",
       "#bvkcomnwie .gt_group_heading {\n",
       "  padding-top: 8px;\n",
       "  padding-bottom: 8px;\n",
       "  padding-left: 5px;\n",
       "  padding-right: 5px;\n",
       "  color: #333333;\n",
       "  background-color: #FFFFFF;\n",
       "  font-size: 100%;\n",
       "  font-weight: initial;\n",
       "  text-transform: inherit;\n",
       "  border-top-style: solid;\n",
       "  border-top-width: 2px;\n",
       "  border-top-color: #D3D3D3;\n",
       "  border-bottom-style: solid;\n",
       "  border-bottom-width: 2px;\n",
       "  border-bottom-color: #D3D3D3;\n",
       "  border-left-style: none;\n",
       "  border-left-width: 1px;\n",
       "  border-left-color: #D3D3D3;\n",
       "  border-right-style: none;\n",
       "  border-right-width: 1px;\n",
       "  border-right-color: #D3D3D3;\n",
       "  vertical-align: middle;\n",
       "  text-align: left;\n",
       "}\n",
       "\n",
       "#bvkcomnwie .gt_empty_group_heading {\n",
       "  padding: 0.5px;\n",
       "  color: #333333;\n",
       "  background-color: #FFFFFF;\n",
       "  font-size: 100%;\n",
       "  font-weight: initial;\n",
       "  border-top-style: solid;\n",
       "  border-top-width: 2px;\n",
       "  border-top-color: #D3D3D3;\n",
       "  border-bottom-style: solid;\n",
       "  border-bottom-width: 2px;\n",
       "  border-bottom-color: #D3D3D3;\n",
       "  vertical-align: middle;\n",
       "}\n",
       "\n",
       "#bvkcomnwie .gt_from_md > :first-child {\n",
       "  margin-top: 0;\n",
       "}\n",
       "\n",
       "#bvkcomnwie .gt_from_md > :last-child {\n",
       "  margin-bottom: 0;\n",
       "}\n",
       "\n",
       "#bvkcomnwie .gt_row {\n",
       "  padding-top: 8px;\n",
       "  padding-bottom: 8px;\n",
       "  padding-left: 5px;\n",
       "  padding-right: 5px;\n",
       "  margin: 10px;\n",
       "  border-top-style: solid;\n",
       "  border-top-width: 1px;\n",
       "  border-top-color: #D3D3D3;\n",
       "  border-left-style: none;\n",
       "  border-left-width: 1px;\n",
       "  border-left-color: #D3D3D3;\n",
       "  border-right-style: none;\n",
       "  border-right-width: 1px;\n",
       "  border-right-color: #D3D3D3;\n",
       "  vertical-align: middle;\n",
       "  overflow-x: hidden;\n",
       "}\n",
       "\n",
       "#bvkcomnwie .gt_stub {\n",
       "  color: #333333;\n",
       "  background-color: #FFFFFF;\n",
       "  font-size: 100%;\n",
       "  font-weight: initial;\n",
       "  text-transform: inherit;\n",
       "  border-right-style: solid;\n",
       "  border-right-width: 2px;\n",
       "  border-right-color: #D3D3D3;\n",
       "  padding-left: 5px;\n",
       "  padding-right: 5px;\n",
       "}\n",
       "\n",
       "#bvkcomnwie .gt_stub_row_group {\n",
       "  color: #333333;\n",
       "  background-color: #FFFFFF;\n",
       "  font-size: 100%;\n",
       "  font-weight: initial;\n",
       "  text-transform: inherit;\n",
       "  border-right-style: solid;\n",
       "  border-right-width: 2px;\n",
       "  border-right-color: #D3D3D3;\n",
       "  padding-left: 5px;\n",
       "  padding-right: 5px;\n",
       "  vertical-align: top;\n",
       "}\n",
       "\n",
       "#bvkcomnwie .gt_row_group_first td {\n",
       "  border-top-width: 2px;\n",
       "}\n",
       "\n",
       "#bvkcomnwie .gt_summary_row {\n",
       "  color: #333333;\n",
       "  background-color: #FFFFFF;\n",
       "  text-transform: inherit;\n",
       "  padding-top: 8px;\n",
       "  padding-bottom: 8px;\n",
       "  padding-left: 5px;\n",
       "  padding-right: 5px;\n",
       "}\n",
       "\n",
       "#bvkcomnwie .gt_first_summary_row {\n",
       "  border-top-style: solid;\n",
       "  border-top-color: #D3D3D3;\n",
       "}\n",
       "\n",
       "#bvkcomnwie .gt_first_summary_row.thick {\n",
       "  border-top-width: 2px;\n",
       "}\n",
       "\n",
       "#bvkcomnwie .gt_last_summary_row {\n",
       "  padding-top: 8px;\n",
       "  padding-bottom: 8px;\n",
       "  padding-left: 5px;\n",
       "  padding-right: 5px;\n",
       "  border-bottom-style: solid;\n",
       "  border-bottom-width: 2px;\n",
       "  border-bottom-color: #D3D3D3;\n",
       "}\n",
       "\n",
       "#bvkcomnwie .gt_grand_summary_row {\n",
       "  color: #333333;\n",
       "  background-color: #FFFFFF;\n",
       "  text-transform: inherit;\n",
       "  padding-top: 8px;\n",
       "  padding-bottom: 8px;\n",
       "  padding-left: 5px;\n",
       "  padding-right: 5px;\n",
       "}\n",
       "\n",
       "#bvkcomnwie .gt_first_grand_summary_row {\n",
       "  padding-top: 8px;\n",
       "  padding-bottom: 8px;\n",
       "  padding-left: 5px;\n",
       "  padding-right: 5px;\n",
       "  border-top-style: double;\n",
       "  border-top-width: 6px;\n",
       "  border-top-color: #D3D3D3;\n",
       "}\n",
       "\n",
       "#bvkcomnwie .gt_striped {\n",
       "  background-color: rgba(128, 128, 128, 0.05);\n",
       "}\n",
       "\n",
       "#bvkcomnwie .gt_table_body {\n",
       "  border-top-style: solid;\n",
       "  border-top-width: 2px;\n",
       "  border-top-color: #D3D3D3;\n",
       "  border-bottom-style: solid;\n",
       "  border-bottom-width: 2px;\n",
       "  border-bottom-color: #D3D3D3;\n",
       "}\n",
       "\n",
       "#bvkcomnwie .gt_footnotes {\n",
       "  color: #333333;\n",
       "  background-color: #FFFFFF;\n",
       "  border-bottom-style: none;\n",
       "  border-bottom-width: 2px;\n",
       "  border-bottom-color: #D3D3D3;\n",
       "  border-left-style: none;\n",
       "  border-left-width: 2px;\n",
       "  border-left-color: #D3D3D3;\n",
       "  border-right-style: none;\n",
       "  border-right-width: 2px;\n",
       "  border-right-color: #D3D3D3;\n",
       "}\n",
       "\n",
       "#bvkcomnwie .gt_footnote {\n",
       "  margin: 0px;\n",
       "  font-size: 90%;\n",
       "  padding-left: 4px;\n",
       "  padding-right: 4px;\n",
       "  padding-left: 5px;\n",
       "  padding-right: 5px;\n",
       "}\n",
       "\n",
       "#bvkcomnwie .gt_sourcenotes {\n",
       "  color: #333333;\n",
       "  background-color: #FFFFFF;\n",
       "  border-bottom-style: none;\n",
       "  border-bottom-width: 2px;\n",
       "  border-bottom-color: #D3D3D3;\n",
       "  border-left-style: none;\n",
       "  border-left-width: 2px;\n",
       "  border-left-color: #D3D3D3;\n",
       "  border-right-style: none;\n",
       "  border-right-width: 2px;\n",
       "  border-right-color: #D3D3D3;\n",
       "}\n",
       "\n",
       "#bvkcomnwie .gt_sourcenote {\n",
       "  font-size: 90%;\n",
       "  padding-top: 4px;\n",
       "  padding-bottom: 4px;\n",
       "  padding-left: 5px;\n",
       "  padding-right: 5px;\n",
       "}\n",
       "\n",
       "#bvkcomnwie .gt_left {\n",
       "  text-align: left;\n",
       "}\n",
       "\n",
       "#bvkcomnwie .gt_center {\n",
       "  text-align: center;\n",
       "}\n",
       "\n",
       "#bvkcomnwie .gt_right {\n",
       "  text-align: right;\n",
       "  font-variant-numeric: tabular-nums;\n",
       "}\n",
       "\n",
       "#bvkcomnwie .gt_font_normal {\n",
       "  font-weight: normal;\n",
       "}\n",
       "\n",
       "#bvkcomnwie .gt_font_bold {\n",
       "  font-weight: bold;\n",
       "}\n",
       "\n",
       "#bvkcomnwie .gt_font_italic {\n",
       "  font-style: italic;\n",
       "}\n",
       "\n",
       "#bvkcomnwie .gt_super {\n",
       "  font-size: 65%;\n",
       "}\n",
       "\n",
       "#bvkcomnwie .gt_footnote_marks {\n",
       "  font-style: italic;\n",
       "  font-weight: normal;\n",
       "  font-size: 75%;\n",
       "  vertical-align: 0.4em;\n",
       "}\n",
       "\n",
       "#bvkcomnwie .gt_asterisk {\n",
       "  font-size: 100%;\n",
       "  vertical-align: 0;\n",
       "}\n",
       "\n",
       "#bvkcomnwie .gt_indent_1 {\n",
       "  text-indent: 5px;\n",
       "}\n",
       "\n",
       "#bvkcomnwie .gt_indent_2 {\n",
       "  text-indent: 10px;\n",
       "}\n",
       "\n",
       "#bvkcomnwie .gt_indent_3 {\n",
       "  text-indent: 15px;\n",
       "}\n",
       "\n",
       "#bvkcomnwie .gt_indent_4 {\n",
       "  text-indent: 20px;\n",
       "}\n",
       "\n",
       "#bvkcomnwie .gt_indent_5 {\n",
       "  text-indent: 25px;\n",
       "}\n",
       "</style>\n",
       "  <table class=\"gt_table\">\n",
       "  \n",
       "  <thead class=\"gt_col_headings\">\n",
       "    <tr>\n",
       "      <th class=\"gt_col_heading gt_columns_bottom_border gt_left\" rowspan=\"2\" colspan=\"1\" scope=\"col\" id=\"&lt;strong&gt;Characteristic&lt;/strong&gt;\"><strong>Characteristic</strong></th>\n",
       "      <th class=\"gt_center gt_columns_top_border gt_column_spanner_outer\" rowspan=\"1\" colspan=\"1\" scope=\"col\" id=\"&lt;strong&gt;Unadjusted&lt;/strong&gt;\">\n",
       "        <span class=\"gt_column_spanner\"><strong>Unadjusted</strong></span>\n",
       "      </th>\n",
       "      <th class=\"gt_center gt_columns_top_border gt_column_spanner_outer\" rowspan=\"1\" colspan=\"1\" scope=\"col\" id=\"&lt;strong&gt;Adjusted, model 1&lt;/strong&gt;\">\n",
       "        <span class=\"gt_column_spanner\"><strong>Adjusted, model 1</strong></span>\n",
       "      </th>\n",
       "      <th class=\"gt_center gt_columns_top_border gt_column_spanner_outer\" rowspan=\"1\" colspan=\"1\" scope=\"col\" id=\"&lt;strong&gt;Adjusted, model 2&lt;/strong&gt;\">\n",
       "        <span class=\"gt_column_spanner\"><strong>Adjusted, model 2</strong></span>\n",
       "      </th>\n",
       "    </tr>\n",
       "    <tr>\n",
       "      <th class=\"gt_col_heading gt_columns_bottom_border gt_center\" rowspan=\"1\" colspan=\"1\" scope=\"col\" id=\"&lt;strong&gt;OR&lt;/strong&gt;&lt;sup class=&quot;gt_footnote_marks&quot;&gt;1&lt;/sup&gt;\"><strong>OR</strong><sup class=\"gt_footnote_marks\">1</sup></th>\n",
       "      <th class=\"gt_col_heading gt_columns_bottom_border gt_center\" rowspan=\"1\" colspan=\"1\" scope=\"col\" id=\"&lt;strong&gt;OR&lt;/strong&gt;&lt;sup class=&quot;gt_footnote_marks&quot;&gt;1&lt;/sup&gt;\"><strong>OR</strong><sup class=\"gt_footnote_marks\">1</sup></th>\n",
       "      <th class=\"gt_col_heading gt_columns_bottom_border gt_center\" rowspan=\"1\" colspan=\"1\" scope=\"col\" id=\"&lt;strong&gt;OR&lt;/strong&gt;&lt;sup class=&quot;gt_footnote_marks&quot;&gt;1&lt;/sup&gt;\"><strong>OR</strong><sup class=\"gt_footnote_marks\">1</sup></th>\n",
       "    </tr>\n",
       "  </thead>\n",
       "  <tbody class=\"gt_table_body\">\n",
       "    <tr class=\"gt_group_heading_row\">\n",
       "      <th colspan=\"4\" class=\"gt_group_heading\" scope=\"colgroup\" id=\"At 4 years\">At 4 years</th>\n",
       "    </tr>\n",
       "    <tr class=\"gt_row_group_first\"><td headers=\"At 4 years  label\" class=\"gt_row gt_left\">Odds of stroke in psychosis</td>\n",
       "<td headers=\"At 4 years  estimate_1\" class=\"gt_row gt_center\">3.99 (2.39, 6.34) [<0.001]</td>\n",
       "<td headers=\"At 4 years  estimate_2\" class=\"gt_row gt_center\">5.40 (3.15, 8.83) [<0.001]</td>\n",
       "<td headers=\"At 4 years  estimate_3\" class=\"gt_row gt_center\">4.71 (2.75, 7.69) [<0.001]</td></tr>\n",
       "    <tr><td headers=\"At 4 years  label\" class=\"gt_row gt_left\">Odds of psychosis in stroke</td>\n",
       "<td headers=\"At 4 years  estimate_1\" class=\"gt_row gt_center\">3.99 (2.39, 6.34) [<0.001]</td>\n",
       "<td headers=\"At 4 years  estimate_2\" class=\"gt_row gt_center\">4.94 (2.87, 8.12) [<0.001]</td>\n",
       "<td headers=\"At 4 years  estimate_3\" class=\"gt_row gt_center\">4.15 (2.42, 6.83) [<0.001]</td></tr>\n",
       "    <tr class=\"gt_group_heading_row\">\n",
       "      <th colspan=\"4\" class=\"gt_group_heading\" scope=\"colgroup\" id=\"At 10 years\">At 10 years</th>\n",
       "    </tr>\n",
       "    <tr class=\"gt_row_group_first\"><td headers=\"At 10 years  label\" class=\"gt_row gt_left\">Odds of stroke in psychosis</td>\n",
       "<td headers=\"At 10 years  estimate_1\" class=\"gt_row gt_center\">2.79 (1.76, 4.25) [<0.001]</td>\n",
       "<td headers=\"At 10 years  estimate_2\" class=\"gt_row gt_center\">3.42 (2.10, 5.33) [<0.001]</td>\n",
       "<td headers=\"At 10 years  estimate_3\" class=\"gt_row gt_center\">3.12 (1.92, 4.87) [<0.001]</td></tr>\n",
       "    <tr><td headers=\"At 10 years  label\" class=\"gt_row gt_left\">Odds of psychosis in stroke</td>\n",
       "<td headers=\"At 10 years  estimate_1\" class=\"gt_row gt_center\">2.79 (1.76, 4.25) [<0.001]</td>\n",
       "<td headers=\"At 10 years  estimate_2\" class=\"gt_row gt_center\">3.22 (1.98, 5.04) [<0.001]</td>\n",
       "<td headers=\"At 10 years  estimate_3\" class=\"gt_row gt_center\">2.81 (1.73, 4.40) [<0.001]</td></tr>\n",
       "  </tbody>\n",
       "  \n",
       "  <tfoot class=\"gt_footnotes\">\n",
       "    <tr>\n",
       "      <td class=\"gt_footnote\" colspan=\"4\"><sup class=\"gt_footnote_marks\">1</sup> OR = Odds Ratio</td>\n",
       "    </tr>\n",
       "  </tfoot>\n",
       "</table>\n",
       "</div>\n",
       "</body>\n",
       "</html>\n"
      ]
     },
     "metadata": {},
     "output_type": "display_data"
    }
   ],
   "source": [
    "table_2_filename = paste(output_dir, \"RB_et_al_table_2.html\", sep=\"\")\n",
    "gt::gtsave(as_gt(strokepsychosisodds_tab_4and10y), file = table_2_filename)\n",
    "display_html(file = table_2_filename)"
   ]
  },
  {
   "attachments": {},
   "cell_type": "markdown",
   "metadata": {},
   "source": [
    "#### Supplementary Table 4. Odds ratios estimates for stroke risk after psychosis and psychosis risk after stroke (complete-case)."
   ]
  },
  {
   "cell_type": "code",
   "execution_count": 27,
   "metadata": {
    "vscode": {
     "languageId": "r"
    }
   },
   "outputs": [
    {
     "data": {
      "text/html": [
       "<!DOCTYPE html>\n",
       "<html lang=\"en\">\n",
       "<head>\n",
       "<meta charset=\"utf-8\"/>\n",
       "<style>body{background-color:white;}</style>\n",
       "\n",
       "\n",
       "</head>\n",
       "<body>\n",
       "<div id=\"fxtpqueuyx\" style=\"padding-left:0px;padding-right:0px;padding-top:10px;padding-bottom:10px;overflow-x:auto;overflow-y:auto;width:auto;height:auto;\">\n",
       "  <style>html {\n",
       "  font-family: -apple-system, BlinkMacSystemFont, 'Segoe UI', Roboto, Oxygen, Ubuntu, Cantarell, 'Helvetica Neue', 'Fira Sans', 'Droid Sans', Arial, sans-serif;\n",
       "}\n",
       "\n",
       "#fxtpqueuyx .gt_table {\n",
       "  display: table;\n",
       "  border-collapse: collapse;\n",
       "  margin-left: auto;\n",
       "  margin-right: auto;\n",
       "  color: #333333;\n",
       "  font-size: 16px;\n",
       "  font-weight: normal;\n",
       "  font-style: normal;\n",
       "  background-color: #FFFFFF;\n",
       "  width: auto;\n",
       "  border-top-style: solid;\n",
       "  border-top-width: 2px;\n",
       "  border-top-color: #A8A8A8;\n",
       "  border-right-style: none;\n",
       "  border-right-width: 2px;\n",
       "  border-right-color: #D3D3D3;\n",
       "  border-bottom-style: solid;\n",
       "  border-bottom-width: 2px;\n",
       "  border-bottom-color: #A8A8A8;\n",
       "  border-left-style: none;\n",
       "  border-left-width: 2px;\n",
       "  border-left-color: #D3D3D3;\n",
       "}\n",
       "\n",
       "#fxtpqueuyx .gt_heading {\n",
       "  background-color: #FFFFFF;\n",
       "  text-align: center;\n",
       "  border-bottom-color: #FFFFFF;\n",
       "  border-left-style: none;\n",
       "  border-left-width: 1px;\n",
       "  border-left-color: #D3D3D3;\n",
       "  border-right-style: none;\n",
       "  border-right-width: 1px;\n",
       "  border-right-color: #D3D3D3;\n",
       "}\n",
       "\n",
       "#fxtpqueuyx .gt_caption {\n",
       "  padding-top: 4px;\n",
       "  padding-bottom: 4px;\n",
       "}\n",
       "\n",
       "#fxtpqueuyx .gt_title {\n",
       "  color: #333333;\n",
       "  font-size: 125%;\n",
       "  font-weight: initial;\n",
       "  padding-top: 4px;\n",
       "  padding-bottom: 4px;\n",
       "  padding-left: 5px;\n",
       "  padding-right: 5px;\n",
       "  border-bottom-color: #FFFFFF;\n",
       "  border-bottom-width: 0;\n",
       "}\n",
       "\n",
       "#fxtpqueuyx .gt_subtitle {\n",
       "  color: #333333;\n",
       "  font-size: 85%;\n",
       "  font-weight: initial;\n",
       "  padding-top: 0;\n",
       "  padding-bottom: 6px;\n",
       "  padding-left: 5px;\n",
       "  padding-right: 5px;\n",
       "  border-top-color: #FFFFFF;\n",
       "  border-top-width: 0;\n",
       "}\n",
       "\n",
       "#fxtpqueuyx .gt_bottom_border {\n",
       "  border-bottom-style: solid;\n",
       "  border-bottom-width: 2px;\n",
       "  border-bottom-color: #D3D3D3;\n",
       "}\n",
       "\n",
       "#fxtpqueuyx .gt_col_headings {\n",
       "  border-top-style: solid;\n",
       "  border-top-width: 2px;\n",
       "  border-top-color: #D3D3D3;\n",
       "  border-bottom-style: solid;\n",
       "  border-bottom-width: 2px;\n",
       "  border-bottom-color: #D3D3D3;\n",
       "  border-left-style: none;\n",
       "  border-left-width: 1px;\n",
       "  border-left-color: #D3D3D3;\n",
       "  border-right-style: none;\n",
       "  border-right-width: 1px;\n",
       "  border-right-color: #D3D3D3;\n",
       "}\n",
       "\n",
       "#fxtpqueuyx .gt_col_heading {\n",
       "  color: #333333;\n",
       "  background-color: #FFFFFF;\n",
       "  font-size: 100%;\n",
       "  font-weight: normal;\n",
       "  text-transform: inherit;\n",
       "  border-left-style: none;\n",
       "  border-left-width: 1px;\n",
       "  border-left-color: #D3D3D3;\n",
       "  border-right-style: none;\n",
       "  border-right-width: 1px;\n",
       "  border-right-color: #D3D3D3;\n",
       "  vertical-align: bottom;\n",
       "  padding-top: 5px;\n",
       "  padding-bottom: 6px;\n",
       "  padding-left: 5px;\n",
       "  padding-right: 5px;\n",
       "  overflow-x: hidden;\n",
       "}\n",
       "\n",
       "#fxtpqueuyx .gt_column_spanner_outer {\n",
       "  color: #333333;\n",
       "  background-color: #FFFFFF;\n",
       "  font-size: 100%;\n",
       "  font-weight: normal;\n",
       "  text-transform: inherit;\n",
       "  padding-top: 0;\n",
       "  padding-bottom: 0;\n",
       "  padding-left: 4px;\n",
       "  padding-right: 4px;\n",
       "}\n",
       "\n",
       "#fxtpqueuyx .gt_column_spanner_outer:first-child {\n",
       "  padding-left: 0;\n",
       "}\n",
       "\n",
       "#fxtpqueuyx .gt_column_spanner_outer:last-child {\n",
       "  padding-right: 0;\n",
       "}\n",
       "\n",
       "#fxtpqueuyx .gt_column_spanner {\n",
       "  border-bottom-style: solid;\n",
       "  border-bottom-width: 2px;\n",
       "  border-bottom-color: #D3D3D3;\n",
       "  vertical-align: bottom;\n",
       "  padding-top: 5px;\n",
       "  padding-bottom: 5px;\n",
       "  overflow-x: hidden;\n",
       "  display: inline-block;\n",
       "  width: 100%;\n",
       "}\n",
       "\n",
       "#fxtpqueuyx .gt_group_heading {\n",
       "  padding-top: 8px;\n",
       "  padding-bottom: 8px;\n",
       "  padding-left: 5px;\n",
       "  padding-right: 5px;\n",
       "  color: #333333;\n",
       "  background-color: #FFFFFF;\n",
       "  font-size: 100%;\n",
       "  font-weight: initial;\n",
       "  text-transform: inherit;\n",
       "  border-top-style: solid;\n",
       "  border-top-width: 2px;\n",
       "  border-top-color: #D3D3D3;\n",
       "  border-bottom-style: solid;\n",
       "  border-bottom-width: 2px;\n",
       "  border-bottom-color: #D3D3D3;\n",
       "  border-left-style: none;\n",
       "  border-left-width: 1px;\n",
       "  border-left-color: #D3D3D3;\n",
       "  border-right-style: none;\n",
       "  border-right-width: 1px;\n",
       "  border-right-color: #D3D3D3;\n",
       "  vertical-align: middle;\n",
       "  text-align: left;\n",
       "}\n",
       "\n",
       "#fxtpqueuyx .gt_empty_group_heading {\n",
       "  padding: 0.5px;\n",
       "  color: #333333;\n",
       "  background-color: #FFFFFF;\n",
       "  font-size: 100%;\n",
       "  font-weight: initial;\n",
       "  border-top-style: solid;\n",
       "  border-top-width: 2px;\n",
       "  border-top-color: #D3D3D3;\n",
       "  border-bottom-style: solid;\n",
       "  border-bottom-width: 2px;\n",
       "  border-bottom-color: #D3D3D3;\n",
       "  vertical-align: middle;\n",
       "}\n",
       "\n",
       "#fxtpqueuyx .gt_from_md > :first-child {\n",
       "  margin-top: 0;\n",
       "}\n",
       "\n",
       "#fxtpqueuyx .gt_from_md > :last-child {\n",
       "  margin-bottom: 0;\n",
       "}\n",
       "\n",
       "#fxtpqueuyx .gt_row {\n",
       "  padding-top: 8px;\n",
       "  padding-bottom: 8px;\n",
       "  padding-left: 5px;\n",
       "  padding-right: 5px;\n",
       "  margin: 10px;\n",
       "  border-top-style: solid;\n",
       "  border-top-width: 1px;\n",
       "  border-top-color: #D3D3D3;\n",
       "  border-left-style: none;\n",
       "  border-left-width: 1px;\n",
       "  border-left-color: #D3D3D3;\n",
       "  border-right-style: none;\n",
       "  border-right-width: 1px;\n",
       "  border-right-color: #D3D3D3;\n",
       "  vertical-align: middle;\n",
       "  overflow-x: hidden;\n",
       "}\n",
       "\n",
       "#fxtpqueuyx .gt_stub {\n",
       "  color: #333333;\n",
       "  background-color: #FFFFFF;\n",
       "  font-size: 100%;\n",
       "  font-weight: initial;\n",
       "  text-transform: inherit;\n",
       "  border-right-style: solid;\n",
       "  border-right-width: 2px;\n",
       "  border-right-color: #D3D3D3;\n",
       "  padding-left: 5px;\n",
       "  padding-right: 5px;\n",
       "}\n",
       "\n",
       "#fxtpqueuyx .gt_stub_row_group {\n",
       "  color: #333333;\n",
       "  background-color: #FFFFFF;\n",
       "  font-size: 100%;\n",
       "  font-weight: initial;\n",
       "  text-transform: inherit;\n",
       "  border-right-style: solid;\n",
       "  border-right-width: 2px;\n",
       "  border-right-color: #D3D3D3;\n",
       "  padding-left: 5px;\n",
       "  padding-right: 5px;\n",
       "  vertical-align: top;\n",
       "}\n",
       "\n",
       "#fxtpqueuyx .gt_row_group_first td {\n",
       "  border-top-width: 2px;\n",
       "}\n",
       "\n",
       "#fxtpqueuyx .gt_summary_row {\n",
       "  color: #333333;\n",
       "  background-color: #FFFFFF;\n",
       "  text-transform: inherit;\n",
       "  padding-top: 8px;\n",
       "  padding-bottom: 8px;\n",
       "  padding-left: 5px;\n",
       "  padding-right: 5px;\n",
       "}\n",
       "\n",
       "#fxtpqueuyx .gt_first_summary_row {\n",
       "  border-top-style: solid;\n",
       "  border-top-color: #D3D3D3;\n",
       "}\n",
       "\n",
       "#fxtpqueuyx .gt_first_summary_row.thick {\n",
       "  border-top-width: 2px;\n",
       "}\n",
       "\n",
       "#fxtpqueuyx .gt_last_summary_row {\n",
       "  padding-top: 8px;\n",
       "  padding-bottom: 8px;\n",
       "  padding-left: 5px;\n",
       "  padding-right: 5px;\n",
       "  border-bottom-style: solid;\n",
       "  border-bottom-width: 2px;\n",
       "  border-bottom-color: #D3D3D3;\n",
       "}\n",
       "\n",
       "#fxtpqueuyx .gt_grand_summary_row {\n",
       "  color: #333333;\n",
       "  background-color: #FFFFFF;\n",
       "  text-transform: inherit;\n",
       "  padding-top: 8px;\n",
       "  padding-bottom: 8px;\n",
       "  padding-left: 5px;\n",
       "  padding-right: 5px;\n",
       "}\n",
       "\n",
       "#fxtpqueuyx .gt_first_grand_summary_row {\n",
       "  padding-top: 8px;\n",
       "  padding-bottom: 8px;\n",
       "  padding-left: 5px;\n",
       "  padding-right: 5px;\n",
       "  border-top-style: double;\n",
       "  border-top-width: 6px;\n",
       "  border-top-color: #D3D3D3;\n",
       "}\n",
       "\n",
       "#fxtpqueuyx .gt_striped {\n",
       "  background-color: rgba(128, 128, 128, 0.05);\n",
       "}\n",
       "\n",
       "#fxtpqueuyx .gt_table_body {\n",
       "  border-top-style: solid;\n",
       "  border-top-width: 2px;\n",
       "  border-top-color: #D3D3D3;\n",
       "  border-bottom-style: solid;\n",
       "  border-bottom-width: 2px;\n",
       "  border-bottom-color: #D3D3D3;\n",
       "}\n",
       "\n",
       "#fxtpqueuyx .gt_footnotes {\n",
       "  color: #333333;\n",
       "  background-color: #FFFFFF;\n",
       "  border-bottom-style: none;\n",
       "  border-bottom-width: 2px;\n",
       "  border-bottom-color: #D3D3D3;\n",
       "  border-left-style: none;\n",
       "  border-left-width: 2px;\n",
       "  border-left-color: #D3D3D3;\n",
       "  border-right-style: none;\n",
       "  border-right-width: 2px;\n",
       "  border-right-color: #D3D3D3;\n",
       "}\n",
       "\n",
       "#fxtpqueuyx .gt_footnote {\n",
       "  margin: 0px;\n",
       "  font-size: 90%;\n",
       "  padding-left: 4px;\n",
       "  padding-right: 4px;\n",
       "  padding-left: 5px;\n",
       "  padding-right: 5px;\n",
       "}\n",
       "\n",
       "#fxtpqueuyx .gt_sourcenotes {\n",
       "  color: #333333;\n",
       "  background-color: #FFFFFF;\n",
       "  border-bottom-style: none;\n",
       "  border-bottom-width: 2px;\n",
       "  border-bottom-color: #D3D3D3;\n",
       "  border-left-style: none;\n",
       "  border-left-width: 2px;\n",
       "  border-left-color: #D3D3D3;\n",
       "  border-right-style: none;\n",
       "  border-right-width: 2px;\n",
       "  border-right-color: #D3D3D3;\n",
       "}\n",
       "\n",
       "#fxtpqueuyx .gt_sourcenote {\n",
       "  font-size: 90%;\n",
       "  padding-top: 4px;\n",
       "  padding-bottom: 4px;\n",
       "  padding-left: 5px;\n",
       "  padding-right: 5px;\n",
       "}\n",
       "\n",
       "#fxtpqueuyx .gt_left {\n",
       "  text-align: left;\n",
       "}\n",
       "\n",
       "#fxtpqueuyx .gt_center {\n",
       "  text-align: center;\n",
       "}\n",
       "\n",
       "#fxtpqueuyx .gt_right {\n",
       "  text-align: right;\n",
       "  font-variant-numeric: tabular-nums;\n",
       "}\n",
       "\n",
       "#fxtpqueuyx .gt_font_normal {\n",
       "  font-weight: normal;\n",
       "}\n",
       "\n",
       "#fxtpqueuyx .gt_font_bold {\n",
       "  font-weight: bold;\n",
       "}\n",
       "\n",
       "#fxtpqueuyx .gt_font_italic {\n",
       "  font-style: italic;\n",
       "}\n",
       "\n",
       "#fxtpqueuyx .gt_super {\n",
       "  font-size: 65%;\n",
       "}\n",
       "\n",
       "#fxtpqueuyx .gt_footnote_marks {\n",
       "  font-style: italic;\n",
       "  font-weight: normal;\n",
       "  font-size: 75%;\n",
       "  vertical-align: 0.4em;\n",
       "}\n",
       "\n",
       "#fxtpqueuyx .gt_asterisk {\n",
       "  font-size: 100%;\n",
       "  vertical-align: 0;\n",
       "}\n",
       "\n",
       "#fxtpqueuyx .gt_indent_1 {\n",
       "  text-indent: 5px;\n",
       "}\n",
       "\n",
       "#fxtpqueuyx .gt_indent_2 {\n",
       "  text-indent: 10px;\n",
       "}\n",
       "\n",
       "#fxtpqueuyx .gt_indent_3 {\n",
       "  text-indent: 15px;\n",
       "}\n",
       "\n",
       "#fxtpqueuyx .gt_indent_4 {\n",
       "  text-indent: 20px;\n",
       "}\n",
       "\n",
       "#fxtpqueuyx .gt_indent_5 {\n",
       "  text-indent: 25px;\n",
       "}\n",
       "</style>\n",
       "  <table class=\"gt_table\">\n",
       "  \n",
       "  <thead class=\"gt_col_headings\">\n",
       "    <tr>\n",
       "      <th class=\"gt_col_heading gt_columns_bottom_border gt_left\" rowspan=\"2\" colspan=\"1\" scope=\"col\" id=\"&lt;strong&gt;Characteristic&lt;/strong&gt;\"><strong>Characteristic</strong></th>\n",
       "      <th class=\"gt_center gt_columns_top_border gt_column_spanner_outer\" rowspan=\"1\" colspan=\"1\" scope=\"col\" id=\"&lt;strong&gt;Unadjusted&lt;/strong&gt;\">\n",
       "        <span class=\"gt_column_spanner\"><strong>Unadjusted</strong></span>\n",
       "      </th>\n",
       "      <th class=\"gt_center gt_columns_top_border gt_column_spanner_outer\" rowspan=\"1\" colspan=\"1\" scope=\"col\" id=\"&lt;strong&gt;Adjusted, model 1&lt;/strong&gt;\">\n",
       "        <span class=\"gt_column_spanner\"><strong>Adjusted, model 1</strong></span>\n",
       "      </th>\n",
       "      <th class=\"gt_center gt_columns_top_border gt_column_spanner_outer\" rowspan=\"1\" colspan=\"1\" scope=\"col\" id=\"&lt;strong&gt;Adjusted, model 2&lt;/strong&gt;\">\n",
       "        <span class=\"gt_column_spanner\"><strong>Adjusted, model 2</strong></span>\n",
       "      </th>\n",
       "    </tr>\n",
       "    <tr>\n",
       "      <th class=\"gt_col_heading gt_columns_bottom_border gt_center\" rowspan=\"1\" colspan=\"1\" scope=\"col\" id=\"&lt;strong&gt;OR&lt;/strong&gt;&lt;sup class=&quot;gt_footnote_marks&quot;&gt;1&lt;/sup&gt;\"><strong>OR</strong><sup class=\"gt_footnote_marks\">1</sup></th>\n",
       "      <th class=\"gt_col_heading gt_columns_bottom_border gt_center\" rowspan=\"1\" colspan=\"1\" scope=\"col\" id=\"&lt;strong&gt;OR&lt;/strong&gt;&lt;sup class=&quot;gt_footnote_marks&quot;&gt;1&lt;/sup&gt;\"><strong>OR</strong><sup class=\"gt_footnote_marks\">1</sup></th>\n",
       "      <th class=\"gt_col_heading gt_columns_bottom_border gt_center\" rowspan=\"1\" colspan=\"1\" scope=\"col\" id=\"&lt;strong&gt;OR&lt;/strong&gt;&lt;sup class=&quot;gt_footnote_marks&quot;&gt;1&lt;/sup&gt;\"><strong>OR</strong><sup class=\"gt_footnote_marks\">1</sup></th>\n",
       "    </tr>\n",
       "  </thead>\n",
       "  <tbody class=\"gt_table_body\">\n",
       "    <tr class=\"gt_group_heading_row\">\n",
       "      <th colspan=\"4\" class=\"gt_group_heading\" scope=\"colgroup\" id=\"At 4 years\">At 4 years</th>\n",
       "    </tr>\n",
       "    <tr class=\"gt_row_group_first\"><td headers=\"At 4 years  label\" class=\"gt_row gt_left\">Odds of stroke in psychosis</td>\n",
       "<td headers=\"At 4 years  estimate_1\" class=\"gt_row gt_center\">3.99 (2.39, 6.34) [<0.001]</td>\n",
       "<td headers=\"At 4 years  estimate_2\" class=\"gt_row gt_center\">5.46 (3.18, 8.93) [<0.001]</td>\n",
       "<td headers=\"At 4 years  estimate_3\" class=\"gt_row gt_center\">4.14 (2.20, 7.26) [<0.001]</td></tr>\n",
       "    <tr><td headers=\"At 4 years  label\" class=\"gt_row gt_left\">Odds of psychosis in stroke</td>\n",
       "<td headers=\"At 4 years  estimate_1\" class=\"gt_row gt_center\">3.99 (2.39, 6.34) [<0.001]</td>\n",
       "<td headers=\"At 4 years  estimate_2\" class=\"gt_row gt_center\">5.00 (2.90, 8.24) [<0.001]</td>\n",
       "<td headers=\"At 4 years  estimate_3\" class=\"gt_row gt_center\">3.62 (1.91, 6.43) [<0.001]</td></tr>\n",
       "    <tr class=\"gt_group_heading_row\">\n",
       "      <th colspan=\"4\" class=\"gt_group_heading\" scope=\"colgroup\" id=\"At 10 years\">At 10 years</th>\n",
       "    </tr>\n",
       "    <tr class=\"gt_row_group_first\"><td headers=\"At 10 years  label\" class=\"gt_row gt_left\">Odds of stroke in psychosis</td>\n",
       "<td headers=\"At 10 years  estimate_1\" class=\"gt_row gt_center\">2.79 (1.76, 4.25) [<0.001]</td>\n",
       "<td headers=\"At 10 years  estimate_2\" class=\"gt_row gt_center\">3.44 (2.12, 5.37) [<0.001]</td>\n",
       "<td headers=\"At 10 years  estimate_3\" class=\"gt_row gt_center\">2.74 (1.57, 4.53) [<0.001]</td></tr>\n",
       "    <tr><td headers=\"At 10 years  label\" class=\"gt_row gt_left\">Odds of psychosis in stroke</td>\n",
       "<td headers=\"At 10 years  estimate_1\" class=\"gt_row gt_center\">2.79 (1.76, 4.25) [<0.001]</td>\n",
       "<td headers=\"At 10 years  estimate_2\" class=\"gt_row gt_center\">3.26 (2.00, 5.11) [<0.001]</td>\n",
       "<td headers=\"At 10 years  estimate_3\" class=\"gt_row gt_center\">2.53 (1.45, 4.19) [<0.001]</td></tr>\n",
       "  </tbody>\n",
       "  \n",
       "  <tfoot class=\"gt_footnotes\">\n",
       "    <tr>\n",
       "      <td class=\"gt_footnote\" colspan=\"4\"><sup class=\"gt_footnote_marks\">1</sup> OR = Odds Ratio</td>\n",
       "    </tr>\n",
       "  </tfoot>\n",
       "</table>\n",
       "</div>\n",
       "</body>\n",
       "</html>\n"
      ]
     },
     "metadata": {},
     "output_type": "display_data"
    }
   ],
   "source": [
    "suppl_table_4_filename = paste(output_dir, \"RB_et_al_suppl_table_4.html\", sep=\"\")\n",
    "gt::gtsave(as_gt(strokepsychosisodds_cc_tab_4and10y), file = suppl_table_4_filename)\n",
    "display_html(file = suppl_table_4_filename)"
   ]
  },
  {
   "cell_type": "markdown",
   "metadata": {},
   "source": [
    "## Analysis platform details and software versions"
   ]
  },
  {
   "cell_type": "code",
   "execution_count": 28,
   "metadata": {
    "vscode": {
     "languageId": "r"
    }
   },
   "outputs": [
    {
     "data": {
      "text/plain": [
       "               _                           \n",
       "platform       x86_64-pc-linux-gnu         \n",
       "arch           x86_64                      \n",
       "os             linux-gnu                   \n",
       "system         x86_64, linux-gnu           \n",
       "status                                     \n",
       "major          4                           \n",
       "minor          2.1                         \n",
       "year           2022                        \n",
       "month          06                          \n",
       "day            23                          \n",
       "svn rev        82513                       \n",
       "language       R                           \n",
       "version.string R version 4.2.1 (2022-06-23)\n",
       "nickname       Funny-Looking Kid           "
      ]
     },
     "metadata": {},
     "output_type": "display_data"
    }
   ],
   "source": [
    "version"
   ]
  },
  {
   "cell_type": "code",
   "execution_count": 29,
   "metadata": {
    "vscode": {
     "languageId": "r"
    }
   },
   "outputs": [
    {
     "data": {
      "text/plain": [
       "[1] ‘1.1.1’"
      ]
     },
     "metadata": {},
     "output_type": "display_data"
    }
   ],
   "source": [
    "packageVersion(\"dplyr\")"
   ]
  },
  {
   "cell_type": "code",
   "execution_count": 30,
   "metadata": {
    "vscode": {
     "languageId": "r"
    }
   },
   "outputs": [
    {
     "data": {
      "text/plain": [
       "[1] ‘3.5.5’"
      ]
     },
     "metadata": {},
     "output_type": "display_data"
    }
   ],
   "source": [
    "packageVersion(\"survival\")"
   ]
  },
  {
   "cell_type": "code",
   "execution_count": 31,
   "metadata": {
    "vscode": {
     "languageId": "r"
    }
   },
   "outputs": [
    {
     "data": {
      "text/plain": [
       "[1] ‘1.7.0’"
      ]
     },
     "metadata": {},
     "output_type": "display_data"
    }
   ],
   "source": [
    "packageVersion(\"gtsummary\")"
   ]
  },
  {
   "cell_type": "code",
   "execution_count": 32,
   "metadata": {
    "vscode": {
     "languageId": "r"
    }
   },
   "outputs": [
    {
     "data": {
      "text/plain": [
       "[1] ‘0.8.0’"
      ]
     },
     "metadata": {},
     "output_type": "display_data"
    }
   ],
   "source": [
    "packageVersion(\"gt\")"
   ]
  },
  {
   "cell_type": "code",
   "execution_count": 33,
   "metadata": {
    "vscode": {
     "languageId": "r"
    }
   },
   "outputs": [
    {
     "data": {
      "text/plain": [
       "[1] ‘1.1’"
      ]
     },
     "metadata": {},
     "output_type": "display_data"
    }
   ],
   "source": [
    "packageVersion(\"IRdisplay\")"
   ]
  },
  {
   "cell_type": "code",
   "execution_count": 34,
   "metadata": {
    "vscode": {
     "languageId": "r"
    }
   },
   "outputs": [
    {
     "data": {
      "text/plain": [
       "[1] ‘0.1.0’"
      ]
     },
     "metadata": {},
     "output_type": "display_data"
    }
   ],
   "source": [
    "packageVersion(\"webshot2\")"
   ]
  }
 ],
 "metadata": {
  "kernelspec": {
   "display_name": "R",
   "language": "R",
   "name": "ir"
  },
  "language_info": {
   "codemirror_mode": "r",
   "file_extension": ".r",
   "mimetype": "text/x-r-source",
   "name": "R",
   "pygments_lexer": "r",
   "version": "4.2.1"
  }
 },
 "nbformat": 4,
 "nbformat_minor": 4
}
